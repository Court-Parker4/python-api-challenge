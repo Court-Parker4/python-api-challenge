{
 "cells": [
  {
   "cell_type": "markdown",
   "metadata": {},
   "source": [
    "# VacationPy\n",
    "----\n",
    "\n",
    "#### Note\n",
    "* Keep an eye on your API usage. Use https://developers.google.com/maps/reporting/gmp-reporting as reference for how to monitor your usage and billing.\n",
    "\n",
    "* Instructions have been included for each segment. You do not have to follow them exactly, but they are included to help you think through the steps."
   ]
  },
  {
   "cell_type": "code",
   "execution_count": 1,
   "metadata": {},
   "outputs": [],
   "source": [
    "# Dependencies and Setup\n",
    "import matplotlib.pyplot as plt\n",
    "import pandas as pd\n",
    "import numpy as np\n",
    "import requests\n",
    "import gmaps\n",
    "import os\n",
    "import json\n",
    "\n",
    "# Import API key\n",
    "from api_keys import g_key"
   ]
  },
  {
   "cell_type": "markdown",
   "metadata": {},
   "source": [
    "### Store Part I results into DataFrame\n",
    "* Load the csv exported in Part I to a DataFrame"
   ]
  },
  {
   "cell_type": "code",
   "execution_count": 2,
   "metadata": {},
   "outputs": [
    {
     "output_type": "execute_result",
     "data": {
      "text/plain": [
       "                  City      Lat       Lng  Max Temp  Humidity  Cloudiness  \\\n",
       "0          bandarbeyla   9.4942   50.8122     79.65        73          99   \n",
       "1         punta arenas -53.1500  -70.9167     48.20        93          90   \n",
       "2       saint-philippe -21.3585   55.7679     78.80        78          97   \n",
       "3    puerto el triunfo  13.2833  -88.5500     75.20        83           0   \n",
       "4          port alfred -33.5906   26.8910     69.01        96          99   \n",
       "..                 ...      ...       ...       ...       ...         ...   \n",
       "556           zhuanghe  39.7008  122.9911     46.00        89         100   \n",
       "557           carauari  -4.8828  -66.8958     72.19        93          80   \n",
       "558               asfi  32.2994   -9.2372     57.69        75          98   \n",
       "559              luena -11.7833   19.9167     61.29        96          90   \n",
       "560             kirkuk  35.4681   44.3922     60.30        48          98   \n",
       "\n",
       "     Wind Speed Country        Date  \n",
       "0         11.32      SO  1615784508  \n",
       "1          5.75      CL  1615784508  \n",
       "2          8.05      RE  1615784509  \n",
       "3          2.30      SV  1615784509  \n",
       "4         11.07      ZA  1615784510  \n",
       "..          ...     ...         ...  \n",
       "556        9.57      CN  1615784741  \n",
       "557        1.01      BR  1615784741  \n",
       "558       17.09      MA  1615784741  \n",
       "559        2.37      AO  1615784742  \n",
       "560        1.16      IQ  1615784742  \n",
       "\n",
       "[561 rows x 9 columns]"
      ],
      "text/html": "<div>\n<style scoped>\n    .dataframe tbody tr th:only-of-type {\n        vertical-align: middle;\n    }\n\n    .dataframe tbody tr th {\n        vertical-align: top;\n    }\n\n    .dataframe thead th {\n        text-align: right;\n    }\n</style>\n<table border=\"1\" class=\"dataframe\">\n  <thead>\n    <tr style=\"text-align: right;\">\n      <th></th>\n      <th>City</th>\n      <th>Lat</th>\n      <th>Lng</th>\n      <th>Max Temp</th>\n      <th>Humidity</th>\n      <th>Cloudiness</th>\n      <th>Wind Speed</th>\n      <th>Country</th>\n      <th>Date</th>\n    </tr>\n  </thead>\n  <tbody>\n    <tr>\n      <th>0</th>\n      <td>bandarbeyla</td>\n      <td>9.4942</td>\n      <td>50.8122</td>\n      <td>79.65</td>\n      <td>73</td>\n      <td>99</td>\n      <td>11.32</td>\n      <td>SO</td>\n      <td>1615784508</td>\n    </tr>\n    <tr>\n      <th>1</th>\n      <td>punta arenas</td>\n      <td>-53.1500</td>\n      <td>-70.9167</td>\n      <td>48.20</td>\n      <td>93</td>\n      <td>90</td>\n      <td>5.75</td>\n      <td>CL</td>\n      <td>1615784508</td>\n    </tr>\n    <tr>\n      <th>2</th>\n      <td>saint-philippe</td>\n      <td>-21.3585</td>\n      <td>55.7679</td>\n      <td>78.80</td>\n      <td>78</td>\n      <td>97</td>\n      <td>8.05</td>\n      <td>RE</td>\n      <td>1615784509</td>\n    </tr>\n    <tr>\n      <th>3</th>\n      <td>puerto el triunfo</td>\n      <td>13.2833</td>\n      <td>-88.5500</td>\n      <td>75.20</td>\n      <td>83</td>\n      <td>0</td>\n      <td>2.30</td>\n      <td>SV</td>\n      <td>1615784509</td>\n    </tr>\n    <tr>\n      <th>4</th>\n      <td>port alfred</td>\n      <td>-33.5906</td>\n      <td>26.8910</td>\n      <td>69.01</td>\n      <td>96</td>\n      <td>99</td>\n      <td>11.07</td>\n      <td>ZA</td>\n      <td>1615784510</td>\n    </tr>\n    <tr>\n      <th>...</th>\n      <td>...</td>\n      <td>...</td>\n      <td>...</td>\n      <td>...</td>\n      <td>...</td>\n      <td>...</td>\n      <td>...</td>\n      <td>...</td>\n      <td>...</td>\n    </tr>\n    <tr>\n      <th>556</th>\n      <td>zhuanghe</td>\n      <td>39.7008</td>\n      <td>122.9911</td>\n      <td>46.00</td>\n      <td>89</td>\n      <td>100</td>\n      <td>9.57</td>\n      <td>CN</td>\n      <td>1615784741</td>\n    </tr>\n    <tr>\n      <th>557</th>\n      <td>carauari</td>\n      <td>-4.8828</td>\n      <td>-66.8958</td>\n      <td>72.19</td>\n      <td>93</td>\n      <td>80</td>\n      <td>1.01</td>\n      <td>BR</td>\n      <td>1615784741</td>\n    </tr>\n    <tr>\n      <th>558</th>\n      <td>asfi</td>\n      <td>32.2994</td>\n      <td>-9.2372</td>\n      <td>57.69</td>\n      <td>75</td>\n      <td>98</td>\n      <td>17.09</td>\n      <td>MA</td>\n      <td>1615784741</td>\n    </tr>\n    <tr>\n      <th>559</th>\n      <td>luena</td>\n      <td>-11.7833</td>\n      <td>19.9167</td>\n      <td>61.29</td>\n      <td>96</td>\n      <td>90</td>\n      <td>2.37</td>\n      <td>AO</td>\n      <td>1615784742</td>\n    </tr>\n    <tr>\n      <th>560</th>\n      <td>kirkuk</td>\n      <td>35.4681</td>\n      <td>44.3922</td>\n      <td>60.30</td>\n      <td>48</td>\n      <td>98</td>\n      <td>1.16</td>\n      <td>IQ</td>\n      <td>1615784742</td>\n    </tr>\n  </tbody>\n</table>\n<p>561 rows × 9 columns</p>\n</div>"
     },
     "metadata": {},
     "execution_count": 2
    }
   ],
   "source": [
    "#pd.readcsv\n",
    "\n",
    "\n",
    "cities_data = pd.read_csv('../WeatherPy/output_data/cities.csv')\n",
    "cities_data=cities_data.drop(['Unnamed: 0'], axis=1)\n",
    "cities_data"
   ]
  },
  {
   "cell_type": "markdown",
   "metadata": {},
   "source": [
    "### Humidity Heatmap\n",
    "* Configure gmaps.\n",
    "* Use the Lat and Lng as locations and Humidity as the weight.\n",
    "* Add Heatmap layer to map."
   ]
  },
  {
   "cell_type": "code",
   "execution_count": null,
   "metadata": {},
   "outputs": [],
   "source": [
    "#Look at heatmap \n",
    "#google maps documentation"
   ]
  },
  {
   "cell_type": "code",
   "execution_count": 3,
   "metadata": {},
   "outputs": [],
   "source": [
    "#Configure gmaps\n",
    "gmaps.configure(api_key=g_key)\n",
    "\n",
    "#locations\n",
    "destination = cities_data[[\"Lat\", \"Lng\"]]\n",
    "\n",
    "#Weight\n",
    "Humidity = cities_data[\"Humidity\"].astype(float)"
   ]
  },
  {
   "cell_type": "code",
   "execution_count": 33,
   "metadata": {},
   "outputs": [
    {
     "output_type": "display_data",
     "data": {
      "text/plain": "Figure(layout=FigureLayout(height='420px'))",
      "application/vnd.jupyter.widget-view+json": {
       "version_major": 2,
       "version_minor": 0,
       "model_id": "b07729ff56d446a1ba89e08c5432b7af"
      }
     },
     "metadata": {}
    }
   ],
   "source": [
    "#plot Heatmap\n",
    "fig = gmaps.figure()\n",
    "\n",
    "# Create heat map layer\n",
    "heat_layer = gmaps.heatmap_layer(destination, weights=Humidity, dissipating=False, max_intensity=50, point_radius=2.5)\n",
    "\n",
    "#Add Layer\n",
    "fig.add_layer(heat_layer)\n",
    "\n",
    "#display\n",
    "fig"
   ]
  },
  {
   "cell_type": "markdown",
   "metadata": {},
   "source": [
    "### Create new DataFrame fitting weather criteria\n",
    "* Narrow down the cities to fit weather conditions.\n",
    "* Drop any rows will null values."
   ]
  },
  {
   "cell_type": "code",
   "execution_count": 5,
   "metadata": {},
   "outputs": [
    {
     "output_type": "execute_result",
     "data": {
      "text/plain": [
       "                  City      Lat       Lng  Max Temp  Humidity  Cloudiness  \\\n",
       "3    puerto el triunfo  13.2833  -88.5500     75.20        83           0   \n",
       "82             guozhen  34.3659  107.3590     74.26        36           0   \n",
       "87               pisco -13.7000  -76.2167     75.20        69           0   \n",
       "97            belmonte -15.8631  -38.8828     73.40        88           0   \n",
       "127             nautla  20.2167  -96.7833     73.51        93           0   \n",
       "147         sao filipe  14.8961  -24.4956     70.39        74           0   \n",
       "150          caravelas -17.7125  -39.2481     72.54        87           0   \n",
       "168        east london -33.0153   27.9116     71.60        88           0   \n",
       "216              macae -22.3708  -41.7869     73.40       100           0   \n",
       "234            xichang  27.8964  102.2634     72.81        40           0   \n",
       "252            sikasso  10.9167   -7.0000     71.10        22           0   \n",
       "379         vila velha -20.3297  -40.2925     77.00        83           0   \n",
       "393         the valley  18.2170  -63.0578     75.20        78           0   \n",
       "423               lima -12.0432  -77.0282     75.99        78           0   \n",
       "439            xixiang  35.1628  112.8650     76.98        36           0   \n",
       "474            markala  13.7021   -6.0659     70.50        26           0   \n",
       "480           alenquer  -1.9417  -54.7383     75.20       100           0   \n",
       "507              young -32.6833  -57.6333     71.01        57           0   \n",
       "\n",
       "     Wind Speed Country        Date  \n",
       "3          2.30      SV  1615784509  \n",
       "82         4.54      CN  1615784544  \n",
       "87         9.22      PE  1615784546  \n",
       "97         2.30      BR  1615784550  \n",
       "127        6.11      MX  1615784563  \n",
       "147        4.65      CV  1615784571  \n",
       "150        3.13      BR  1615784572  \n",
       "168        6.91      ZA  1615784579  \n",
       "216        2.30      BR  1615784599  \n",
       "234        3.38      CN  1615784606  \n",
       "252        0.38      ML  1615784614  \n",
       "379        3.44      BR  1615784523  \n",
       "393        2.30      AI  1615784674  \n",
       "423        4.61      PE  1615784687  \n",
       "439        5.70      CN  1615784694  \n",
       "474        9.44      ML  1615784707  \n",
       "480        3.44      BR  1615784709  \n",
       "507        3.00      UY  1615784720  "
      ],
      "text/html": "<div>\n<style scoped>\n    .dataframe tbody tr th:only-of-type {\n        vertical-align: middle;\n    }\n\n    .dataframe tbody tr th {\n        vertical-align: top;\n    }\n\n    .dataframe thead th {\n        text-align: right;\n    }\n</style>\n<table border=\"1\" class=\"dataframe\">\n  <thead>\n    <tr style=\"text-align: right;\">\n      <th></th>\n      <th>City</th>\n      <th>Lat</th>\n      <th>Lng</th>\n      <th>Max Temp</th>\n      <th>Humidity</th>\n      <th>Cloudiness</th>\n      <th>Wind Speed</th>\n      <th>Country</th>\n      <th>Date</th>\n    </tr>\n  </thead>\n  <tbody>\n    <tr>\n      <th>3</th>\n      <td>puerto el triunfo</td>\n      <td>13.2833</td>\n      <td>-88.5500</td>\n      <td>75.20</td>\n      <td>83</td>\n      <td>0</td>\n      <td>2.30</td>\n      <td>SV</td>\n      <td>1615784509</td>\n    </tr>\n    <tr>\n      <th>82</th>\n      <td>guozhen</td>\n      <td>34.3659</td>\n      <td>107.3590</td>\n      <td>74.26</td>\n      <td>36</td>\n      <td>0</td>\n      <td>4.54</td>\n      <td>CN</td>\n      <td>1615784544</td>\n    </tr>\n    <tr>\n      <th>87</th>\n      <td>pisco</td>\n      <td>-13.7000</td>\n      <td>-76.2167</td>\n      <td>75.20</td>\n      <td>69</td>\n      <td>0</td>\n      <td>9.22</td>\n      <td>PE</td>\n      <td>1615784546</td>\n    </tr>\n    <tr>\n      <th>97</th>\n      <td>belmonte</td>\n      <td>-15.8631</td>\n      <td>-38.8828</td>\n      <td>73.40</td>\n      <td>88</td>\n      <td>0</td>\n      <td>2.30</td>\n      <td>BR</td>\n      <td>1615784550</td>\n    </tr>\n    <tr>\n      <th>127</th>\n      <td>nautla</td>\n      <td>20.2167</td>\n      <td>-96.7833</td>\n      <td>73.51</td>\n      <td>93</td>\n      <td>0</td>\n      <td>6.11</td>\n      <td>MX</td>\n      <td>1615784563</td>\n    </tr>\n    <tr>\n      <th>147</th>\n      <td>sao filipe</td>\n      <td>14.8961</td>\n      <td>-24.4956</td>\n      <td>70.39</td>\n      <td>74</td>\n      <td>0</td>\n      <td>4.65</td>\n      <td>CV</td>\n      <td>1615784571</td>\n    </tr>\n    <tr>\n      <th>150</th>\n      <td>caravelas</td>\n      <td>-17.7125</td>\n      <td>-39.2481</td>\n      <td>72.54</td>\n      <td>87</td>\n      <td>0</td>\n      <td>3.13</td>\n      <td>BR</td>\n      <td>1615784572</td>\n    </tr>\n    <tr>\n      <th>168</th>\n      <td>east london</td>\n      <td>-33.0153</td>\n      <td>27.9116</td>\n      <td>71.60</td>\n      <td>88</td>\n      <td>0</td>\n      <td>6.91</td>\n      <td>ZA</td>\n      <td>1615784579</td>\n    </tr>\n    <tr>\n      <th>216</th>\n      <td>macae</td>\n      <td>-22.3708</td>\n      <td>-41.7869</td>\n      <td>73.40</td>\n      <td>100</td>\n      <td>0</td>\n      <td>2.30</td>\n      <td>BR</td>\n      <td>1615784599</td>\n    </tr>\n    <tr>\n      <th>234</th>\n      <td>xichang</td>\n      <td>27.8964</td>\n      <td>102.2634</td>\n      <td>72.81</td>\n      <td>40</td>\n      <td>0</td>\n      <td>3.38</td>\n      <td>CN</td>\n      <td>1615784606</td>\n    </tr>\n    <tr>\n      <th>252</th>\n      <td>sikasso</td>\n      <td>10.9167</td>\n      <td>-7.0000</td>\n      <td>71.10</td>\n      <td>22</td>\n      <td>0</td>\n      <td>0.38</td>\n      <td>ML</td>\n      <td>1615784614</td>\n    </tr>\n    <tr>\n      <th>379</th>\n      <td>vila velha</td>\n      <td>-20.3297</td>\n      <td>-40.2925</td>\n      <td>77.00</td>\n      <td>83</td>\n      <td>0</td>\n      <td>3.44</td>\n      <td>BR</td>\n      <td>1615784523</td>\n    </tr>\n    <tr>\n      <th>393</th>\n      <td>the valley</td>\n      <td>18.2170</td>\n      <td>-63.0578</td>\n      <td>75.20</td>\n      <td>78</td>\n      <td>0</td>\n      <td>2.30</td>\n      <td>AI</td>\n      <td>1615784674</td>\n    </tr>\n    <tr>\n      <th>423</th>\n      <td>lima</td>\n      <td>-12.0432</td>\n      <td>-77.0282</td>\n      <td>75.99</td>\n      <td>78</td>\n      <td>0</td>\n      <td>4.61</td>\n      <td>PE</td>\n      <td>1615784687</td>\n    </tr>\n    <tr>\n      <th>439</th>\n      <td>xixiang</td>\n      <td>35.1628</td>\n      <td>112.8650</td>\n      <td>76.98</td>\n      <td>36</td>\n      <td>0</td>\n      <td>5.70</td>\n      <td>CN</td>\n      <td>1615784694</td>\n    </tr>\n    <tr>\n      <th>474</th>\n      <td>markala</td>\n      <td>13.7021</td>\n      <td>-6.0659</td>\n      <td>70.50</td>\n      <td>26</td>\n      <td>0</td>\n      <td>9.44</td>\n      <td>ML</td>\n      <td>1615784707</td>\n    </tr>\n    <tr>\n      <th>480</th>\n      <td>alenquer</td>\n      <td>-1.9417</td>\n      <td>-54.7383</td>\n      <td>75.20</td>\n      <td>100</td>\n      <td>0</td>\n      <td>3.44</td>\n      <td>BR</td>\n      <td>1615784709</td>\n    </tr>\n    <tr>\n      <th>507</th>\n      <td>young</td>\n      <td>-32.6833</td>\n      <td>-57.6333</td>\n      <td>71.01</td>\n      <td>57</td>\n      <td>0</td>\n      <td>3.00</td>\n      <td>UY</td>\n      <td>1615784720</td>\n    </tr>\n  </tbody>\n</table>\n</div>"
     },
     "metadata": {},
     "execution_count": 5
    }
   ],
   "source": [
    "#Filter data for zero cloudiness, temperature between 70-80, and wind speed below 10\n",
    "no_cloud = cities_data[cities_data[\"Cloudiness\"]==0]\n",
    "\n",
    "temp_70 = no_cloud[no_cloud[\"Max Temp\"]>70]\n",
    "temp_80 = temp_70[temp_70[\"Max Temp\"]<80]\n",
    "low_wind = temp_80[temp_80[\"Wind Speed\"] <10]\n",
    "\n",
    "low_wind"
   ]
  },
  {
   "cell_type": "code",
   "execution_count": 31,
   "metadata": {},
   "outputs": [
    {
     "output_type": "display_data",
     "data": {
      "text/plain": "Figure(layout=FigureLayout(height='420px'))",
      "application/vnd.jupyter.widget-view+json": {
       "version_major": 2,
       "version_minor": 0,
       "model_id": "d930e5315ad64a2da56a64a39daefc21"
      }
     },
     "metadata": {}
    }
   ],
   "source": [
    "#Configure gmaps\n",
    "gmaps.configure(api_key=g_key)\n",
    "\n",
    "#locations\n",
    "destination = low_wind[[\"Lat\", \"Lng\"]]\n",
    "\n",
    "#Weight\n",
    "Humidity = low_wind[\"Humidity\"].astype(float)\n",
    "\n",
    "\n",
    "# Customize the size of the figure\n",
    "figure_layout = {\n",
    "    'width': '400px',\n",
    "    'height': '300px',\n",
    "    'border': '1px solid black',\n",
    "    'padding': '1px',\n",
    "    'margin': '0 auto 0 auto'\n",
    "}\n",
    "fig = gmaps.figure(layout=figure_layout) \n",
    "\n",
    "# Assign the marker layer to a variable\n",
    "markers = gmaps.marker_layer(destination)\n",
    "# Add the layer to the map\n",
    "fig.add_layer(markers)\n",
    "\n",
    "\n",
    "# Plot Heatmap\n",
    "fig = gmaps.figure()\n",
    "# Create heat layer\n",
    "\n",
    "heat_layer = gmaps.heatmap_layer(destination, weights=Humidity, \n",
    "                                 dissipating=False, max_intensity=50,\n",
    "                                 point_radius=2.5)\n",
    "\n",
    "\n",
    "# Add layer\n",
    "fig.add_layer(heat_layer)\n",
    "\n",
    "# Display figure\n",
    "fig "
   ]
  },
  {
   "cell_type": "markdown",
   "metadata": {},
   "source": [
    "### Hotel Map\n",
    "* Store into variable named `hotel_df`.\n",
    "* Add a \"Hotel Name\" column to the DataFrame.\n",
    "* Set parameters to search for hotels with 5000 meters.\n",
    "* Hit the Google Places API for each city's coordinates.\n",
    "* Store the first Hotel result into the DataFrame.\n",
    "* Plot markers on top of the heatmap."
   ]
  },
  {
   "cell_type": "code",
   "execution_count": 36,
   "metadata": {
    "tags": []
   },
   "outputs": [
    {
     "output_type": "stream",
     "name": "stdout",
     "text": [
      "Get Hotel 3: puerto el triunfo.\n",
      "Hotel near by is Hotel Jardin.\n",
      "--------------\n",
      "Get Hotel 82: guozhen.\n",
      "C:\\Users\\court\\anaconda3\\lib\\site-packages\\pandas\\core\\indexing.py:966: SettingWithCopyWarning: \n",
      "A value is trying to be set on a copy of a slice from a DataFrame.\n",
      "Try using .loc[row_indexer,col_indexer] = value instead\n",
      "\n",
      "See the caveats in the documentation: https://pandas.pydata.org/pandas-docs/stable/user_guide/indexing.html#returning-a-view-versus-a-copy\n",
      "  self.obj[item] = s\n",
      "Hotel near by is Yucai Hotel.\n",
      "--------------\n",
      "Get Hotel 87: pisco.\n",
      "Hotel near by is Hotel San Isidro Oficial.\n",
      "--------------\n",
      "Get Hotel 97: belmonte.\n",
      "Hotel near by is Pousada Monte Carmelo O Pão.\n",
      "--------------\n",
      "Get Hotel 127: nautla.\n",
      "Hotel near by is Casa Blanca.\n",
      "--------------\n",
      "Get Hotel 147: sao filipe.\n",
      "Hotel near by is Tortuga B&B.\n",
      "--------------\n",
      "Get Hotel 150: caravelas.\n",
      "Hotel near by is Pousada dos Navegantes.\n",
      "--------------\n",
      "Get Hotel 168: east london.\n",
      "Hotel near by is Tu Casa.\n",
      "--------------\n",
      "Get Hotel 216: macae.\n",
      "Hotel near by is Personal Hotel.\n",
      "--------------\n",
      "Get Hotel 234: xichang.\n",
      "Hotel near by is Xichang ibis Hotel.\n",
      "--------------\n",
      "Get Hotel 252: sikasso.\n",
      "skipped, no data\n",
      "--------------\n",
      "Get Hotel 379: vila velha.\n",
      "Hotel near by is Quality Suites Vila Velha.\n",
      "--------------\n",
      "Get Hotel 393: the valley.\n",
      "Hotel near by is CeBlue Villas & Beach Resort.\n",
      "--------------\n",
      "Get Hotel 423: lima.\n",
      "Hotel near by is Gran Hotel Bolivar Lima.\n",
      "--------------\n",
      "Get Hotel 439: xixiang.\n",
      "Hotel near by is Sanmao Hotel Hotel.\n",
      "--------------\n",
      "Get Hotel 474: markala.\n",
      "Hotel near by is Yaya Hôtel.\n",
      "--------------\n",
      "Get Hotel 480: alenquer.\n",
      "Hotel near by is Josilene Castro.\n",
      "--------------\n",
      "Get Hotel 507: young.\n",
      "Hotel near by is Posada Gira el Sol.\n",
      "--------------\n"
     ]
    }
   ],
   "source": [
    "#class activity similar but will also need to go through google api documentation\n",
    "\n",
    "#https://maps.googleapis.com/maps/api/place/nearbysearch/json?location=-33.8670522,151.1957362&radius=1500&type=lodging&key=g_key\n",
    "#change location and radius\n",
    "\n",
    "hotel_df = low_wind\n",
    "\n",
    "params = {\n",
    "        \"radius\": 5000,\n",
    "        \"types\": \"lodging\",\n",
    "        \"key\": g_key\n",
    "    }\n",
    "\n",
    "for index, row in hotel_df.iterrows():\n",
    "    Lat = row[\"Lat\"]\n",
    "    Lng = row[\"Lng\"]\n",
    "\n",
    "    #add coordinates\n",
    "    params[\"location\"] = f\"{Lat},{Lng}\"\n",
    "\n",
    "    base_url = \"https://maps.googleapis.com/maps/api/place/nearbysearch/json\"\n",
    "\n",
    "    #create request url\n",
    "    print(f\"Get Hotel {index}: {row['City']}.\")\n",
    "    answer = requests.get(base_url, params=params).json()\n",
    "    \n",
    "\n",
    "    #get results\n",
    "    results = answer['results']\n",
    "\n",
    "    try:\n",
    "        print(f\"Hotel near by is {results[0]['name']}.\")\n",
    "        hotel_df.loc[index, 'Hotel Name'] = results[0]['name']\n",
    "    except (KeyError, IndexError):\n",
    "        print(\"skipped, no data\")\n",
    "\n",
    "    print(\"--------------\")  \n"
   ]
  },
  {
   "cell_type": "code",
   "execution_count": 37,
   "metadata": {},
   "outputs": [
    {
     "output_type": "execute_result",
     "data": {
      "text/plain": [
       "                  City      Lat       Lng  Max Temp  Humidity  Cloudiness  \\\n",
       "3    puerto el triunfo  13.2833  -88.5500     75.20        83           0   \n",
       "82             guozhen  34.3659  107.3590     74.26        36           0   \n",
       "87               pisco -13.7000  -76.2167     75.20        69           0   \n",
       "97            belmonte -15.8631  -38.8828     73.40        88           0   \n",
       "127             nautla  20.2167  -96.7833     73.51        93           0   \n",
       "147         sao filipe  14.8961  -24.4956     70.39        74           0   \n",
       "150          caravelas -17.7125  -39.2481     72.54        87           0   \n",
       "168        east london -33.0153   27.9116     71.60        88           0   \n",
       "216              macae -22.3708  -41.7869     73.40       100           0   \n",
       "234            xichang  27.8964  102.2634     72.81        40           0   \n",
       "252            sikasso  10.9167   -7.0000     71.10        22           0   \n",
       "379         vila velha -20.3297  -40.2925     77.00        83           0   \n",
       "393         the valley  18.2170  -63.0578     75.20        78           0   \n",
       "423               lima -12.0432  -77.0282     75.99        78           0   \n",
       "439            xixiang  35.1628  112.8650     76.98        36           0   \n",
       "474            markala  13.7021   -6.0659     70.50        26           0   \n",
       "480           alenquer  -1.9417  -54.7383     75.20       100           0   \n",
       "507              young -32.6833  -57.6333     71.01        57           0   \n",
       "\n",
       "     Wind Speed Country        Date                    Hotel Name  \n",
       "3          2.30      SV  1615784509                  Hotel Jardin  \n",
       "82         4.54      CN  1615784544                   Yucai Hotel  \n",
       "87         9.22      PE  1615784546      Hotel San Isidro Oficial  \n",
       "97         2.30      BR  1615784550   Pousada Monte Carmelo O Pão  \n",
       "127        6.11      MX  1615784563                   Casa Blanca  \n",
       "147        4.65      CV  1615784571                   Tortuga B&B  \n",
       "150        3.13      BR  1615784572        Pousada dos Navegantes  \n",
       "168        6.91      ZA  1615784579                       Tu Casa  \n",
       "216        2.30      BR  1615784599                Personal Hotel  \n",
       "234        3.38      CN  1615784606            Xichang ibis Hotel  \n",
       "252        0.38      ML  1615784614                           NaN  \n",
       "379        3.44      BR  1615784523     Quality Suites Vila Velha  \n",
       "393        2.30      AI  1615784674  CeBlue Villas & Beach Resort  \n",
       "423        4.61      PE  1615784687       Gran Hotel Bolivar Lima  \n",
       "439        5.70      CN  1615784694            Sanmao Hotel Hotel  \n",
       "474        9.44      ML  1615784707                    Yaya Hôtel  \n",
       "480        3.44      BR  1615784709               Josilene Castro  \n",
       "507        3.00      UY  1615784720            Posada Gira el Sol  "
      ],
      "text/html": "<div>\n<style scoped>\n    .dataframe tbody tr th:only-of-type {\n        vertical-align: middle;\n    }\n\n    .dataframe tbody tr th {\n        vertical-align: top;\n    }\n\n    .dataframe thead th {\n        text-align: right;\n    }\n</style>\n<table border=\"1\" class=\"dataframe\">\n  <thead>\n    <tr style=\"text-align: right;\">\n      <th></th>\n      <th>City</th>\n      <th>Lat</th>\n      <th>Lng</th>\n      <th>Max Temp</th>\n      <th>Humidity</th>\n      <th>Cloudiness</th>\n      <th>Wind Speed</th>\n      <th>Country</th>\n      <th>Date</th>\n      <th>Hotel Name</th>\n    </tr>\n  </thead>\n  <tbody>\n    <tr>\n      <th>3</th>\n      <td>puerto el triunfo</td>\n      <td>13.2833</td>\n      <td>-88.5500</td>\n      <td>75.20</td>\n      <td>83</td>\n      <td>0</td>\n      <td>2.30</td>\n      <td>SV</td>\n      <td>1615784509</td>\n      <td>Hotel Jardin</td>\n    </tr>\n    <tr>\n      <th>82</th>\n      <td>guozhen</td>\n      <td>34.3659</td>\n      <td>107.3590</td>\n      <td>74.26</td>\n      <td>36</td>\n      <td>0</td>\n      <td>4.54</td>\n      <td>CN</td>\n      <td>1615784544</td>\n      <td>Yucai Hotel</td>\n    </tr>\n    <tr>\n      <th>87</th>\n      <td>pisco</td>\n      <td>-13.7000</td>\n      <td>-76.2167</td>\n      <td>75.20</td>\n      <td>69</td>\n      <td>0</td>\n      <td>9.22</td>\n      <td>PE</td>\n      <td>1615784546</td>\n      <td>Hotel San Isidro Oficial</td>\n    </tr>\n    <tr>\n      <th>97</th>\n      <td>belmonte</td>\n      <td>-15.8631</td>\n      <td>-38.8828</td>\n      <td>73.40</td>\n      <td>88</td>\n      <td>0</td>\n      <td>2.30</td>\n      <td>BR</td>\n      <td>1615784550</td>\n      <td>Pousada Monte Carmelo O Pão</td>\n    </tr>\n    <tr>\n      <th>127</th>\n      <td>nautla</td>\n      <td>20.2167</td>\n      <td>-96.7833</td>\n      <td>73.51</td>\n      <td>93</td>\n      <td>0</td>\n      <td>6.11</td>\n      <td>MX</td>\n      <td>1615784563</td>\n      <td>Casa Blanca</td>\n    </tr>\n    <tr>\n      <th>147</th>\n      <td>sao filipe</td>\n      <td>14.8961</td>\n      <td>-24.4956</td>\n      <td>70.39</td>\n      <td>74</td>\n      <td>0</td>\n      <td>4.65</td>\n      <td>CV</td>\n      <td>1615784571</td>\n      <td>Tortuga B&amp;B</td>\n    </tr>\n    <tr>\n      <th>150</th>\n      <td>caravelas</td>\n      <td>-17.7125</td>\n      <td>-39.2481</td>\n      <td>72.54</td>\n      <td>87</td>\n      <td>0</td>\n      <td>3.13</td>\n      <td>BR</td>\n      <td>1615784572</td>\n      <td>Pousada dos Navegantes</td>\n    </tr>\n    <tr>\n      <th>168</th>\n      <td>east london</td>\n      <td>-33.0153</td>\n      <td>27.9116</td>\n      <td>71.60</td>\n      <td>88</td>\n      <td>0</td>\n      <td>6.91</td>\n      <td>ZA</td>\n      <td>1615784579</td>\n      <td>Tu Casa</td>\n    </tr>\n    <tr>\n      <th>216</th>\n      <td>macae</td>\n      <td>-22.3708</td>\n      <td>-41.7869</td>\n      <td>73.40</td>\n      <td>100</td>\n      <td>0</td>\n      <td>2.30</td>\n      <td>BR</td>\n      <td>1615784599</td>\n      <td>Personal Hotel</td>\n    </tr>\n    <tr>\n      <th>234</th>\n      <td>xichang</td>\n      <td>27.8964</td>\n      <td>102.2634</td>\n      <td>72.81</td>\n      <td>40</td>\n      <td>0</td>\n      <td>3.38</td>\n      <td>CN</td>\n      <td>1615784606</td>\n      <td>Xichang ibis Hotel</td>\n    </tr>\n    <tr>\n      <th>252</th>\n      <td>sikasso</td>\n      <td>10.9167</td>\n      <td>-7.0000</td>\n      <td>71.10</td>\n      <td>22</td>\n      <td>0</td>\n      <td>0.38</td>\n      <td>ML</td>\n      <td>1615784614</td>\n      <td>NaN</td>\n    </tr>\n    <tr>\n      <th>379</th>\n      <td>vila velha</td>\n      <td>-20.3297</td>\n      <td>-40.2925</td>\n      <td>77.00</td>\n      <td>83</td>\n      <td>0</td>\n      <td>3.44</td>\n      <td>BR</td>\n      <td>1615784523</td>\n      <td>Quality Suites Vila Velha</td>\n    </tr>\n    <tr>\n      <th>393</th>\n      <td>the valley</td>\n      <td>18.2170</td>\n      <td>-63.0578</td>\n      <td>75.20</td>\n      <td>78</td>\n      <td>0</td>\n      <td>2.30</td>\n      <td>AI</td>\n      <td>1615784674</td>\n      <td>CeBlue Villas &amp; Beach Resort</td>\n    </tr>\n    <tr>\n      <th>423</th>\n      <td>lima</td>\n      <td>-12.0432</td>\n      <td>-77.0282</td>\n      <td>75.99</td>\n      <td>78</td>\n      <td>0</td>\n      <td>4.61</td>\n      <td>PE</td>\n      <td>1615784687</td>\n      <td>Gran Hotel Bolivar Lima</td>\n    </tr>\n    <tr>\n      <th>439</th>\n      <td>xixiang</td>\n      <td>35.1628</td>\n      <td>112.8650</td>\n      <td>76.98</td>\n      <td>36</td>\n      <td>0</td>\n      <td>5.70</td>\n      <td>CN</td>\n      <td>1615784694</td>\n      <td>Sanmao Hotel Hotel</td>\n    </tr>\n    <tr>\n      <th>474</th>\n      <td>markala</td>\n      <td>13.7021</td>\n      <td>-6.0659</td>\n      <td>70.50</td>\n      <td>26</td>\n      <td>0</td>\n      <td>9.44</td>\n      <td>ML</td>\n      <td>1615784707</td>\n      <td>Yaya Hôtel</td>\n    </tr>\n    <tr>\n      <th>480</th>\n      <td>alenquer</td>\n      <td>-1.9417</td>\n      <td>-54.7383</td>\n      <td>75.20</td>\n      <td>100</td>\n      <td>0</td>\n      <td>3.44</td>\n      <td>BR</td>\n      <td>1615784709</td>\n      <td>Josilene Castro</td>\n    </tr>\n    <tr>\n      <th>507</th>\n      <td>young</td>\n      <td>-32.6833</td>\n      <td>-57.6333</td>\n      <td>71.01</td>\n      <td>57</td>\n      <td>0</td>\n      <td>3.00</td>\n      <td>UY</td>\n      <td>1615784720</td>\n      <td>Posada Gira el Sol</td>\n    </tr>\n  </tbody>\n</table>\n</div>"
     },
     "metadata": {},
     "execution_count": 37
    }
   ],
   "source": [
    "hotel_df"
   ]
  },
  {
   "cell_type": "code",
   "execution_count": 38,
   "metadata": {},
   "outputs": [],
   "source": [
    "# NOTE: Do not change any of the code in this cell\n",
    "\n",
    "# Using the template add the hotel marks to the heatmap\n",
    "info_box_template = \"\"\"\n",
    "<dl>\n",
    "<dt>Name</dt><dd>{Hotel Name}</dd>\n",
    "<dt>City</dt><dd>{City}</dd>\n",
    "<dt>Country</dt><dd>{Country}</dd>\n",
    "</dl>\n",
    "\"\"\"\n",
    "# Store the DataFrame Row\n",
    "# NOTE: be sure to update with your DataFrame name\n",
    "hotel_info = [info_box_template.format(**row) for index, row in hotel_df.iterrows()]\n",
    "locations = hotel_df[[\"Lat\", \"Lng\"]]"
   ]
  },
  {
   "cell_type": "code",
   "execution_count": 40,
   "metadata": {},
   "outputs": [
    {
     "output_type": "display_data",
     "data": {
      "text/plain": "Figure(layout=FigureLayout(height='420px'))",
      "application/vnd.jupyter.widget-view+json": {
       "version_major": 2,
       "version_minor": 0,
       "model_id": "b07729ff56d446a1ba89e08c5432b7af"
      }
     },
     "metadata": {}
    }
   ],
   "source": [
    "# Assign the marker layer to a variable\n",
    "dest_hotel = gmaps.symbol_layer(locations, scale=2, info_box_content=hotel_info\n",
    ")\n",
    "# Add marker layer ontop of heat map\n",
    "fig.add_layer(markers)\n",
    "# Add the layer to the map\n",
    "fig.add_layer(dest_hotel)\n",
    "# Display figure\n",
    "fig\n"
   ]
  },
  {
   "cell_type": "code",
   "execution_count": null,
   "metadata": {},
   "outputs": [],
   "source": []
  }
 ],
 "metadata": {
  "kernelspec": {
   "display_name": "Python 3",
   "language": "python",
   "name": "python3"
  },
  "language_info": {
   "codemirror_mode": {
    "name": "ipython",
    "version": 3
   },
   "file_extension": ".py",
   "mimetype": "text/x-python",
   "name": "python",
   "nbconvert_exporter": "python",
   "pygments_lexer": "ipython3",
   "version": "3.8.3-final"
  },
  "latex_envs": {
   "LaTeX_envs_menu_present": true,
   "autoclose": false,
   "autocomplete": true,
   "bibliofile": "biblio.bib",
   "cite_by": "apalike",
   "current_citInitial": 1,
   "eqLabelWithNumbers": true,
   "eqNumInitial": 1,
   "hotkeys": {
    "equation": "Ctrl-E",
    "itemize": "Ctrl-I"
   },
   "labels_anchors": false,
   "latex_user_defs": false,
   "report_style_numbering": false,
   "user_envs_cfg": false
  }
 },
 "nbformat": 4,
 "nbformat_minor": 4
}