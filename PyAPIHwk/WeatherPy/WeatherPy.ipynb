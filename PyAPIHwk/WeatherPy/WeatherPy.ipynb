{
 "cells": [
  {
   "cell_type": "markdown",
   "metadata": {},
   "source": [
    "# WeatherPy\n",
    "----\n",
    "\n",
    "#### Note\n",
    "* Instructions have been included for each segment. You do not have to follow them exactly, but they are included to help you think through the steps."
   ]
  },
  {
   "cell_type": "code",
   "execution_count": 8,
   "metadata": {
    "scrolled": true
   },
   "outputs": [],
   "source": [
    "# Dependencies and Setup\n",
    "import matplotlib.pyplot as plt\n",
    "import pandas as pd\n",
    "import numpy as np\n",
    "import requests\n",
    "import time\n",
    "from pprint import pprint\n",
    "from scipy.stats import linregress\n",
    "\n",
    "# Import API key\n",
    "from api_keys import weather_api_key\n",
    "\n",
    "# Incorporated citipy to determine city based on latitude and longitude\n",
    "from citipy import citipy\n",
    "\n",
    "# Output File (CSV)\n",
    "output_data_file = \"output_data/cities.csv\"\n",
    "\n",
    "# Range of latitudes and longitudes\n",
    "lat_range = (-90, 90)\n",
    "lng_range = (-180, 180)"
   ]
  },
  {
   "cell_type": "markdown",
   "metadata": {},
   "source": [
    "## Generate Cities List"
   ]
  },
  {
   "cell_type": "code",
   "execution_count": 9,
   "metadata": {},
   "outputs": [
    {
     "name": "stdout",
     "output_type": "stream",
     "text": [
      "621\n"
     ]
    }
   ],
   "source": [
    "# List for holding lat_lngs and cities\n",
    "lat_lngs = []\n",
    "cities = []\n",
    "\n",
    "# Create a set of random lat and lng combinations\n",
    "lats = np.random.uniform(lat_range[0], lat_range[1], size=1500)\n",
    "lngs = np.random.uniform(lng_range[0], lng_range[1], size=1500)\n",
    "lat_lngs = zip(lats, lngs)\n",
    "\n",
    "# Identify nearest city for each lat, lng combination\n",
    "for lat_lng in lat_lngs:\n",
    "    city = citipy.nearest_city(lat_lng[0], lat_lng[1]).city_name\n",
    "    \n",
    "    # If the city is unique, then add it to a our cities list\n",
    "    if city not in cities:\n",
    "        cities.append(city)\n",
    "\n",
    "# Print the city count to confirm sufficient count\n",
    "print(len(cities))"
   ]
  },
  {
   "cell_type": "markdown",
   "metadata": {},
   "source": [
    "### Perform API Calls\n",
    "* Perform a weather check on each city using a series of successive API calls.\n",
    "* Include a print log of each city as it'sbeing processed (with the city number and city name).\n"
   ]
  },
  {
   "cell_type": "code",
   "execution_count": 14,
   "metadata": {
    "scrolled": true
   },
   "outputs": [
    {
     "name": "stdout",
     "output_type": "stream",
     "text": [
      "Beginning Data Retrieval\n",
      "-----------------------------\n",
      "Processing Record 0  of Set 1 | attawapiskat.\n",
      "city attawapiskat skipped\n",
      "Processing Record 0  of Set 1 | bandarbeyla.\n",
      "Processing Record 0  of Set 1 | punta arenas.\n",
      "Processing Record 0  of Set 1 | saint-philippe.\n",
      "Processing Record 0  of Set 1 | qabis.\n",
      "city qabis skipped\n",
      "Processing Record 0  of Set 1 | puerto el triunfo.\n",
      "Processing Record 0  of Set 1 | lolua.\n",
      "city lolua skipped\n",
      "Processing Record 0  of Set 1 | port alfred.\n",
      "Processing Record 0  of Set 1 | muravlenko.\n",
      "Processing Record 0  of Set 1 | bredasdorp.\n",
      "Processing Record 0  of Set 1 | ushuaia.\n",
      "Processing Record 0  of Set 1 | hambantota.\n",
      "Processing Record 0  of Set 1 | nemuro.\n",
      "Processing Record 0  of Set 1 | broome.\n",
      "Processing Record 0  of Set 1 | busselton.\n",
      "Processing Record 0  of Set 1 | bluff.\n",
      "Processing Record 0  of Set 1 | tuskegee.\n",
      "Processing Record 0  of Set 1 | kikwit.\n",
      "Processing Record 0  of Set 1 | chowchilla.\n",
      "Processing Record 0  of Set 1 | kavieng.\n",
      "Processing Record 0  of Set 1 | petropavlovsk-kamchatskiy.\n",
      "Processing Record 0  of Set 1 | kodiak.\n",
      "Processing Record 0  of Set 1 | yellowknife.\n",
      "Processing Record 0  of Set 1 | analipsis.\n",
      "Processing Record 0  of Set 1 | chokurdakh.\n",
      "Processing Record 0  of Set 1 | akyab.\n",
      "Processing Record 0  of Set 1 | tiksi.\n",
      "Processing Record 0  of Set 1 | jishu.\n",
      "Processing Record 0  of Set 1 | butaritari.\n",
      "Processing Record 0  of Set 1 | thompson.\n",
      "Processing Record 0  of Set 1 | havelock.\n",
      "Processing Record 0  of Set 1 | mataura.\n",
      "Processing Record 0  of Set 1 | avarua.\n",
      "Processing Record 0  of Set 1 | luganville.\n",
      "Processing Record 0  of Set 1 | rikitea.\n",
      "Processing Record 0  of Set 1 | katsuura.\n",
      "Processing Record 0  of Set 1 | faanui.\n",
      "Processing Record 0  of Set 1 | alta floresta.\n",
      "Processing Record 0  of Set 1 | udachnyy.\n",
      "Processing Record 0  of Set 1 | barentsburg.\n",
      "city barentsburg skipped\n",
      "Processing Record 0  of Set 1 | saskylakh.\n",
      "Processing Record 0  of Set 1 | islampur.\n",
      "Processing Record 0  of Set 1 | norman wells.\n",
      "Processing Record 0  of Set 1 | victoria.\n",
      "Processing Record 0  of Set 1 | saint-francois.\n",
      "Processing Record 0  of Set 1 | albany.\n",
      "Processing Record 0  of Set 1 | myitkyina.\n",
      "Processing Record 0  of Set 1 | kapaa.\n",
      "Processing Record 0  of Set 1 | stekolnyy.\n",
      "city stekolnyy skipped\n",
      "Processing Record 0  of Set 1 | castro.\n",
      "Processing Record 0  of Set 1 | puerto ayora.\n",
      "Processing Record 0  of Set 1 | cidreira.\n",
      "Processing Record 0  of Set 1 | belushya guba.\n",
      "city belushya guba skipped\n",
      "Processing Record 0  of Set 1 | mys shmidta.\n",
      "city mys shmidta skipped\n",
      "Processing Record 0  of Set 1 | salinopolis.\n",
      "Processing Record 0  of Set 1 | maningrida.\n",
      "Processing Record 0  of Set 1 | vaitupu.\n",
      "city vaitupu skipped\n",
      "Processing Record 0  of Set 1 | gulshat.\n",
      "city gulshat skipped\n",
      "Processing Record 0  of Set 1 | illoqqortoormiut.\n",
      "city illoqqortoormiut skipped\n",
      "Processing Record 0  of Set 1 | marawi.\n",
      "Processing Record 0  of Set 1 | bokspits.\n",
      "city bokspits skipped\n",
      "Processing Record 0  of Set 1 | hasaki.\n",
      "Processing Record 0  of Set 1 | umzimvubu.\n",
      "city umzimvubu skipped\n",
      "Processing Record 0  of Set 1 | lata.\n",
      "Processing Record 0  of Set 1 | coihaique.\n",
      "Processing Record 0  of Set 1 | hobart.\n",
      "Processing Record 0  of Set 1 | qaanaaq.\n",
      "Processing Record 0  of Set 1 | torbay.\n",
      "Processing Record 0  of Set 1 | lorengau.\n",
      "Processing Record 0  of Set 1 | jamestown.\n",
      "Processing Record 0  of Set 1 | new norfolk.\n",
      "Processing Record 0  of Set 1 | tsihombe.\n",
      "city tsihombe skipped\n",
      "Processing Record 0  of Set 1 | vaini.\n",
      "Processing Record 0  of Set 1 | salinas.\n",
      "Processing Record 0  of Set 1 | los llanos de aridane.\n",
      "Processing Record 0  of Set 1 | nhulunbuy.\n",
      "Processing Record 0  of Set 1 | carinhanha.\n",
      "Processing Record 0  of Set 1 | port elizabeth.\n",
      "Processing Record 0  of Set 1 | bambous virieux.\n",
      "Processing Record 0  of Set 1 | inhambane.\n",
      "Processing Record 0  of Set 1 | okhotsk.\n",
      "Processing Record 0  of Set 1 | ponta do sol.\n",
      "Processing Record 0  of Set 1 | linhares.\n",
      "Processing Record 0  of Set 1 | yining.\n",
      "Processing Record 0  of Set 1 | ayan.\n",
      "Processing Record 0  of Set 1 | jieshi.\n",
      "Processing Record 0  of Set 1 | huarmey.\n",
      "Processing Record 0  of Set 1 | port-gentil.\n",
      "Processing Record 0  of Set 1 | evans.\n",
      "Processing Record 0  of Set 1 | samusu.\n",
      "city samusu skipped\n",
      "Processing Record 0  of Set 1 | thessalon.\n",
      "Processing Record 0  of Set 1 | taolanaro.\n",
      "city taolanaro skipped\n",
      "Processing Record 0  of Set 1 | carnarvon.\n",
      "Processing Record 0  of Set 1 | umba.\n",
      "Processing Record 0  of Set 1 | hermanus.\n",
      "Processing Record 0  of Set 1 | asau.\n",
      "Processing Record 0  of Set 1 | atuona.\n",
      "Processing Record 0  of Set 1 | guozhen.\n",
      "Processing Record 0  of Set 1 | cape town.\n",
      "Processing Record 0  of Set 1 | hilo.\n",
      "Processing Record 0  of Set 1 | port-de-paix.\n",
      "city port-de-paix skipped\n",
      "Processing Record 0  of Set 1 | bataipora.\n",
      "Processing Record 0  of Set 1 | dali.\n",
      "Processing Record 0  of Set 1 | pisco.\n",
      "Processing Record 0  of Set 1 | belaya gora.\n",
      "Processing Record 0  of Set 1 | nizhneyansk.\n",
      "city nizhneyansk skipped\n",
      "Processing Record 0  of Set 1 | alyangula.\n",
      "Processing Record 0  of Set 1 | la ronge.\n",
      "Processing Record 0  of Set 1 | tuktoyaktuk.\n",
      "Processing Record 0  of Set 1 | naze.\n",
      "Processing Record 0  of Set 1 | yulara.\n",
      "Processing Record 0  of Set 1 | ostrovnoy.\n",
      "Processing Record 0  of Set 1 | arraial do cabo.\n",
      "Processing Record 0  of Set 1 | kahului.\n",
      "Processing Record 0  of Set 1 | belmonte.\n",
      "Processing Record 0  of Set 1 | chilliwack.\n",
      "Processing Record 0  of Set 1 | omaruru.\n",
      "Processing Record 0  of Set 1 | san patricio.\n",
      "Processing Record 0  of Set 1 | ribeira grande.\n",
      "Processing Record 0  of Set 1 | bengkulu.\n",
      "Processing Record 0  of Set 1 | san jeronimo.\n",
      "Processing Record 0  of Set 1 | virginia beach.\n",
      "Processing Record 0  of Set 1 | oussouye.\n",
      "Processing Record 0  of Set 1 | ahipara.\n",
      "Processing Record 0  of Set 1 | grand river south east.\n",
      "city grand river south east skipped\n",
      "Processing Record 0  of Set 1 | upernavik.\n",
      "Processing Record 0  of Set 1 | port augusta.\n",
      "Processing Record 0  of Set 1 | banjar.\n",
      "Processing Record 0  of Set 1 | marcona.\n",
      "city marcona skipped\n",
      "Processing Record 0  of Set 1 | champerico.\n",
      "Processing Record 0  of Set 1 | georgetown.\n",
      "Processing Record 0  of Set 1 | sitka.\n",
      "Processing Record 0  of Set 1 | abonnema.\n",
      "Processing Record 0  of Set 1 | vardo.\n",
      "Processing Record 0  of Set 1 | lebu.\n",
      "Processing Record 0  of Set 1 | tananger.\n",
      "Processing Record 0  of Set 1 | koboldo.\n",
      "city koboldo skipped\n",
      "Processing Record 0  of Set 1 | avera.\n",
      "Processing Record 0  of Set 1 | samtredia.\n",
      "Processing Record 0  of Set 1 | ranong.\n",
      "Processing Record 0  of Set 1 | hami.\n",
      "Processing Record 0  of Set 1 | vao.\n",
      "Processing Record 0  of Set 1 | tura.\n",
      "Processing Record 0  of Set 1 | pacific grove.\n",
      "Processing Record 0  of Set 1 | fort nelson.\n",
      "Processing Record 0  of Set 1 | samarai.\n",
      "Processing Record 0  of Set 1 | mayo.\n",
      "Processing Record 0  of Set 1 | nautla.\n",
      "Processing Record 0  of Set 1 | chapais.\n",
      "Processing Record 0  of Set 1 | bonthe.\n",
      "Processing Record 0  of Set 1 | lavrentiya.\n",
      "Processing Record 0  of Set 1 | mogocha.\n",
      "Processing Record 0  of Set 1 | piacabucu.\n",
      "Processing Record 0  of Set 1 | sentyabrskiy.\n",
      "city sentyabrskiy skipped\n",
      "Processing Record 0  of Set 1 | grindavik.\n",
      "Processing Record 0  of Set 1 | lompoc.\n",
      "Processing Record 0  of Set 1 | mar del plata.\n",
      "Processing Record 0  of Set 1 | shimoda.\n",
      "Processing Record 0  of Set 1 | tabou.\n",
      "Processing Record 0  of Set 1 | imeni morozova.\n",
      "Processing Record 0  of Set 1 | tasiilaq.\n",
      "Processing Record 0  of Set 1 | dikson.\n",
      "Processing Record 0  of Set 1 | porto belo.\n",
      "Processing Record 0  of Set 1 | sakakah.\n",
      "Processing Record 0  of Set 1 | fairbanks.\n",
      "Processing Record 0  of Set 1 | havre-saint-pierre.\n",
      "Processing Record 0  of Set 1 | nikolskoye.\n",
      "Processing Record 0  of Set 1 | anadyr.\n",
      "Processing Record 0  of Set 1 | sao filipe.\n",
      "Processing Record 0  of Set 1 | saint-paul.\n",
      "Processing Record 0  of Set 1 | alihe.\n",
      "Processing Record 0  of Set 1 | caravelas.\n",
      "Processing Record 0  of Set 1 | kandrian.\n",
      "Processing Record 0  of Set 1 | evensk.\n",
      "Processing Record 0  of Set 1 | bilma.\n",
      "Processing Record 0  of Set 1 | souillac.\n",
      "Processing Record 0  of Set 1 | ongandjera.\n",
      "Processing Record 0  of Set 1 | wad rawah.\n",
      "Processing Record 0  of Set 1 | sao joao da barra.\n",
      "Processing Record 0  of Set 1 | constitucion.\n"
     ]
    },
    {
     "name": "stdout",
     "output_type": "stream",
     "text": [
      "Processing Record 0  of Set 1 | ilo.\n",
      "Processing Record 0  of Set 1 | manavalakurichi.\n",
      "Processing Record 0  of Set 1 | boa vista.\n",
      "Processing Record 0  of Set 1 | noyabrsk.\n",
      "Processing Record 0  of Set 1 | klichka.\n",
      "Processing Record 0  of Set 1 | yumen.\n",
      "Processing Record 0  of Set 1 | phan thiet.\n",
      "Processing Record 0  of Set 1 | nizhniy kuranakh.\n",
      "Processing Record 0  of Set 1 | nueva loja.\n",
      "Processing Record 0  of Set 1 | east london.\n",
      "Processing Record 0  of Set 1 | sioux lookout.\n",
      "Processing Record 0  of Set 1 | provideniya.\n",
      "Processing Record 0  of Set 1 | chuy.\n",
      "Processing Record 0  of Set 1 | port blair.\n",
      "Processing Record 0  of Set 1 | papara.\n",
      "Processing Record 0  of Set 1 | barrow.\n",
      "Processing Record 0  of Set 1 | zhaoqing.\n",
      "Processing Record 0  of Set 1 | montanha.\n",
      "Processing Record 0  of Set 1 | choma.\n",
      "Processing Record 0  of Set 1 | fereydun kenar.\n",
      "Processing Record 0  of Set 1 | saint-pierre.\n",
      "Processing Record 0  of Set 1 | taoudenni.\n",
      "Processing Record 0  of Set 1 | innisfail.\n",
      "Processing Record 0  of Set 1 | kokoda.\n",
      "Processing Record 0  of Set 1 | hithadhoo.\n",
      "Processing Record 0  of Set 1 | pitimbu.\n",
      "Processing Record 0  of Set 1 | klaksvik.\n",
      "Processing Record 0  of Set 1 | palabuhanratu.\n",
      "city palabuhanratu skipped\n",
      "Processing Record 0  of Set 1 | vagur.\n",
      "Processing Record 0  of Set 1 | khatanga.\n",
      "Processing Record 0  of Set 1 | longyearbyen.\n",
      "Processing Record 0  of Set 1 | katobu.\n",
      "Processing Record 0  of Set 1 | hervey bay.\n",
      "Processing Record 0  of Set 1 | uarini.\n",
      "Processing Record 0  of Set 1 | llanes.\n",
      "Processing Record 0  of Set 1 | flin flon.\n",
      "Processing Record 0  of Set 1 | jablonec nad jizerou.\n",
      "Processing Record 0  of Set 1 | westport.\n",
      "Processing Record 0  of Set 1 | pevek.\n",
      "Processing Record 0  of Set 1 | kingston upon hull.\n",
      "Processing Record 0  of Set 1 | bireun.\n",
      "Processing Record 0  of Set 1 | ulaanbaatar.\n",
      "Processing Record 0  of Set 1 | kopavogur.\n",
      "Processing Record 0  of Set 1 | diamantino.\n",
      "Processing Record 0  of Set 1 | san andres.\n",
      "Processing Record 0  of Set 1 | sechura.\n",
      "Processing Record 0  of Set 1 | longlac.\n",
      "city longlac skipped\n",
      "Processing Record 0  of Set 1 | bethel.\n",
      "Processing Record 0  of Set 1 | tuatapere.\n",
      "Processing Record 0  of Set 1 | touba.\n",
      "Processing Record 0  of Set 1 | mareeba.\n",
      "Processing Record 0  of Set 1 | ixtapa.\n",
      "Processing Record 0  of Set 1 | takoradi.\n",
      "Processing Record 0  of Set 1 | nanortalik.\n",
      "Processing Record 0  of Set 1 | vicente guerrero.\n",
      "Processing Record 0  of Set 1 | sao felix do xingu.\n",
      "Processing Record 0  of Set 1 | mount isa.\n",
      "Processing Record 0  of Set 1 | igarka.\n",
      "Processing Record 0  of Set 1 | tautira.\n",
      "Processing Record 0  of Set 1 | macae.\n",
      "Processing Record 0  of Set 1 | sosua.\n",
      "Processing Record 0  of Set 1 | jasper.\n",
      "Processing Record 0  of Set 1 | poum.\n",
      "Processing Record 0  of Set 1 | vila.\n",
      "Processing Record 0  of Set 1 | saint george.\n",
      "Processing Record 0  of Set 1 | wattegama.\n",
      "Processing Record 0  of Set 1 | mayenne.\n",
      "Processing Record 0  of Set 1 | amapa.\n",
      "Processing Record 0  of Set 1 | cherskiy.\n",
      "Processing Record 0  of Set 1 | samalaeulu.\n",
      "city samalaeulu skipped\n",
      "Processing Record 0  of Set 1 | dongsheng.\n",
      "Processing Record 0  of Set 1 | shingu.\n",
      "Processing Record 0  of Set 1 | nizhnevartovsk.\n",
      "Processing Record 0  of Set 1 | san quintin.\n",
      "Processing Record 0  of Set 1 | codrington.\n",
      "Processing Record 0  of Set 1 | leh.\n",
      "Processing Record 0  of Set 1 | kupang.\n",
      "Processing Record 0  of Set 1 | punaauia.\n",
      "Processing Record 0  of Set 1 | xichang.\n",
      "Processing Record 0  of Set 1 | hirara.\n",
      "Processing Record 0  of Set 1 | isangel.\n",
      "Processing Record 0  of Set 1 | urbano santos.\n",
      "Processing Record 0  of Set 1 | labuhan.\n",
      "Processing Record 0  of Set 1 | mahon.\n",
      "Processing Record 0  of Set 1 | bolobo.\n",
      "Processing Record 0  of Set 1 | hailar.\n",
      "Processing Record 0  of Set 1 | leningradskiy.\n",
      "Processing Record 0  of Set 1 | hammerfest.\n",
      "Processing Record 0  of Set 1 | fortuna.\n",
      "Processing Record 0  of Set 1 | rawson.\n",
      "Processing Record 0  of Set 1 | canon city.\n",
      "Processing Record 0  of Set 1 | tambura.\n",
      "Processing Record 0  of Set 1 | gaoual.\n",
      "Processing Record 0  of Set 1 | auki.\n",
      "Processing Record 0  of Set 1 | orotukan.\n",
      "Processing Record 0  of Set 1 | xai-xai.\n",
      "Processing Record 0  of Set 1 | sikasso.\n",
      "Processing Record 0  of Set 1 | requena.\n",
      "Processing Record 0  of Set 1 | pangnirtung.\n",
      "Processing Record 0  of Set 1 | valparaiso.\n",
      "Processing Record 0  of Set 1 | port hedland.\n",
      "Processing Record 0  of Set 1 | pangody.\n",
      "Processing Record 0  of Set 1 | malanville.\n",
      "Processing Record 0  of Set 1 | nishihara.\n",
      "Processing Record 0  of Set 1 | blois.\n",
      "Processing Record 0  of Set 1 | chanika.\n",
      "Processing Record 0  of Set 1 | bac lieu.\n",
      "Processing Record 0  of Set 1 | kushiro.\n",
      "Processing Record 0  of Set 1 | tilichiki.\n",
      "Processing Record 0  of Set 1 | bayan.\n",
      "Processing Record 0  of Set 1 | airai.\n",
      "Processing Record 0  of Set 1 | abu dhabi.\n",
      "Processing Record 0  of Set 1 | te anau.\n",
      "Processing Record 0  of Set 1 | half moon bay.\n",
      "Processing Record 0  of Set 1 | cayenne.\n",
      "Processing Record 0  of Set 1 | kruisfontein.\n",
      "Processing Record 0  of Set 1 | high level.\n",
      "Processing Record 0  of Set 1 | provost.\n",
      "Processing Record 0  of Set 1 | hihifo.\n",
      "city hihifo skipped\n",
      "Processing Record 0  of Set 1 | mount gambier.\n",
      "Processing Record 0  of Set 1 | tanete.\n",
      "Processing Record 0  of Set 1 | itarema.\n",
      "Processing Record 0  of Set 1 | achisay.\n",
      "city achisay skipped\n",
      "Processing Record 0  of Set 1 | tutoia.\n",
      "Processing Record 0  of Set 1 | kishapu.\n",
      "Processing Record 0  of Set 1 | caconda.\n",
      "Processing Record 0  of Set 1 | lianran.\n",
      "Processing Record 0  of Set 1 | lufilufi.\n",
      "Processing Record 0  of Set 1 | touros.\n",
      "Processing Record 0  of Set 1 | kloulklubed.\n",
      "Processing Record 0  of Set 1 | sooke.\n",
      "Processing Record 0  of Set 1 | litovko.\n",
      "Processing Record 0  of Set 1 | atbasar.\n",
      "Processing Record 0  of Set 1 | mahadday weyne.\n",
      "city mahadday weyne skipped\n",
      "Processing Record 0  of Set 1 | tabriz.\n",
      "Processing Record 0  of Set 1 | port lincoln.\n",
      "Processing Record 0  of Set 1 | sorland.\n",
      "Processing Record 0  of Set 1 | margate.\n",
      "Processing Record 0  of Set 1 | williamsport.\n",
      "Processing Record 0  of Set 1 | algeciras.\n",
      "Processing Record 0  of Set 1 | paucartambo.\n",
      "city paucartambo skipped\n",
      "Processing Record 0  of Set 1 | amderma.\n",
      "city amderma skipped\n",
      "Processing Record 0  of Set 1 | lagoa.\n",
      "Processing Record 0  of Set 1 | kothen.\n",
      "Processing Record 0  of Set 1 | iqaluit.\n",
      "Processing Record 0  of Set 1 | cabatuan.\n",
      "Processing Record 0  of Set 1 | yialos.\n",
      "city yialos skipped\n",
      "Processing Record 0  of Set 1 | roald.\n",
      "Processing Record 0  of Set 1 | am timan.\n",
      "Processing Record 0  of Set 1 | grand gaube.\n",
      "Processing Record 0  of Set 1 | novyy urengoy.\n",
      "Processing Record 0  of Set 1 | atar.\n",
      "Processing Record 0  of Set 1 | zhigansk.\n",
      "Processing Record 0  of Set 1 | umm lajj.\n",
      "Processing Record 0  of Set 1 | bereda.\n",
      "Processing Record 0  of Set 1 | saginaw.\n",
      "Processing Record 0  of Set 1 | marsh harbour.\n",
      "Processing Record 0  of Set 1 | ancud.\n",
      "Processing Record 0  of Set 1 | gweru.\n",
      "Processing Record 0  of Set 1 | lao cai.\n",
      "Processing Record 0  of Set 1 | dukat.\n",
      "Processing Record 0  of Set 1 | tunduru.\n",
      "city tunduru skipped\n",
      "Processing Record 0  of Set 1 | kutna hora.\n",
      "Processing Record 0  of Set 1 | rundu.\n",
      "Processing Record 0  of Set 1 | la libertad.\n",
      "Processing Record 0  of Set 1 | villa altagracia.\n",
      "Processing Record 0  of Set 1 | bela cruz.\n",
      "Processing Record 0  of Set 1 | wewak.\n",
      "Processing Record 0  of Set 1 | mahebourg.\n",
      "Processing Record 0  of Set 1 | olafsvik.\n",
      "Processing Record 0  of Set 1 | vestmannaeyjar.\n",
      "Processing Record 0  of Set 1 | manzhouli.\n",
      "Processing Record 0  of Set 1 | port hawkesbury.\n",
      "Processing Record 0  of Set 1 | cockburn town.\n",
      "Processing Record 0  of Set 1 | gat.\n",
      "Processing Record 0  of Set 1 | astana.\n",
      "Processing Record 0  of Set 1 | wanning.\n",
      "Processing Record 0  of Set 1 | huron.\n",
      "Processing Record 0  of Set 1 | el badari.\n",
      "city el badari skipped\n",
      "Processing Record 0  of Set 1 | cookeville.\n",
      "Processing Record 0  of Set 1 | puerto madryn.\n",
      "Processing Record 0  of Set 1 | kapit.\n",
      "Processing Record 0  of Set 1 | saldanha.\n",
      "Processing Record 0  of Set 1 | washington.\n",
      "Processing Record 0  of Set 1 | eyl.\n",
      "Processing Record 0  of Set 1 | temaraia.\n",
      "city temaraia skipped\n",
      "Processing Record 0  of Set 1 | altay.\n",
      "Processing Record 0  of Set 1 | ardakan.\n"
     ]
    },
    {
     "name": "stdout",
     "output_type": "stream",
     "text": [
      "Processing Record 0  of Set 1 | jalu.\n",
      "Processing Record 0  of Set 1 | kaitangata.\n",
      "Processing Record 0  of Set 1 | chute-aux-outardes.\n",
      "Processing Record 0  of Set 1 | ilulissat.\n",
      "Processing Record 0  of Set 1 | nehe.\n",
      "Processing Record 0  of Set 1 | cameta.\n",
      "Processing Record 0  of Set 1 | bur gabo.\n",
      "city bur gabo skipped\n",
      "Processing Record 0  of Set 1 | alto araguaia.\n",
      "Processing Record 0  of Set 1 | karkaralinsk.\n",
      "city karkaralinsk skipped\n",
      "Processing Record 0  of Set 1 | esso.\n",
      "Processing Record 0  of Set 1 | nyrob.\n",
      "Processing Record 0  of Set 1 | beringovskiy.\n",
      "Processing Record 0  of Set 1 | severo-kurilsk.\n",
      "Processing Record 0  of Set 1 | coquimbo.\n",
      "Processing Record 0  of Set 1 | aksu.\n",
      "Processing Record 0  of Set 1 | port macquarie.\n",
      "Processing Record 0  of Set 1 | sabang.\n",
      "Processing Record 0  of Set 1 | hudiksvall.\n",
      "Processing Record 0  of Set 1 | tumannyy.\n",
      "city tumannyy skipped\n",
      "Processing Record 0  of Set 1 | alofi.\n",
      "Processing Record 0  of Set 1 | benguela.\n",
      "Processing Record 0  of Set 1 | faya.\n",
      "Processing Record 0  of Set 1 | abilene.\n",
      "Processing Record 0  of Set 1 | farah.\n",
      "Processing Record 0  of Set 1 | malakal.\n",
      "Processing Record 0  of Set 1 | visnes.\n",
      "Processing Record 0  of Set 1 | aranos.\n",
      "Processing Record 0  of Set 1 | oranjemund.\n",
      "Processing Record 0  of Set 1 | padang.\n",
      "Processing Record 0  of Set 1 | la reforma.\n",
      "Processing Record 0  of Set 1 | esperance.\n",
      "Processing Record 0  of Set 1 | volcan.\n",
      "Processing Record 0  of Set 1 | chaska.\n",
      "Processing Record 0  of Set 1 | hun.\n",
      "Processing Record 0  of Set 1 | nantucket.\n",
      "Processing Record 0  of Set 1 | shahr-e kord.\n",
      "Processing Record 0  of Set 1 | hobyo.\n",
      "Processing Record 0  of Set 1 | nova ushytsya.\n",
      "Processing Record 0  of Set 1 | katherine.\n",
      "Processing Record 0  of Set 1 | vestmanna.\n",
      "Processing Record 0  of Set 1 | toftir.\n",
      "city toftir skipped\n",
      "Processing Record 0  of Set 1 | nome.\n",
      "Processing Record 0  of Set 1 | ola.\n",
      "Processing Record 0  of Set 1 | kattivakkam.\n",
      "Processing Record 0  of Set 1 | santiago del estero.\n",
      "Processing Record 0  of Set 1 | kadykchan.\n",
      "city kadykchan skipped\n",
      "Processing Record 0  of Set 1 | yamada.\n",
      "Processing Record 0  of Set 1 | guidonia.\n",
      "Processing Record 0  of Set 1 | russas.\n",
      "Processing Record 0  of Set 1 | vila velha.\n",
      "Processing Record 0  of Set 1 | uwayl.\n",
      "city uwayl skipped\n",
      "Processing Record 0  of Set 1 | boda.\n",
      "Processing Record 0  of Set 1 | komsomolskiy.\n",
      "Processing Record 0  of Set 1 | khandyga.\n",
      "Processing Record 0  of Set 1 | luanda.\n",
      "Processing Record 0  of Set 1 | skalistyy.\n",
      "city skalistyy skipped\n",
      "Processing Record 0  of Set 1 | lubango.\n",
      "Processing Record 0  of Set 1 | raudeberg.\n",
      "Processing Record 0  of Set 1 | san pedro.\n",
      "Processing Record 0  of Set 1 | leshukonskoye.\n",
      "Processing Record 0  of Set 1 | zomin.\n",
      "Processing Record 0  of Set 1 | belle fourche.\n",
      "Processing Record 0  of Set 1 | fevralsk.\n",
      "city fevralsk skipped\n",
      "Processing Record 0  of Set 1 | louisbourg.\n",
      "city louisbourg skipped\n",
      "Processing Record 0  of Set 1 | kudahuvadhoo.\n",
      "Processing Record 0  of Set 1 | bardiyah.\n",
      "Processing Record 0  of Set 1 | aporawan.\n",
      "city aporawan skipped\n",
      "Processing Record 0  of Set 1 | tibati.\n",
      "Processing Record 0  of Set 1 | sinkat.\n",
      "city sinkat skipped\n",
      "Processing Record 0  of Set 1 | the valley.\n",
      "Processing Record 0  of Set 1 | hovd.\n",
      "Processing Record 0  of Set 1 | mmabatho.\n",
      "Processing Record 0  of Set 1 | ponta delgada.\n",
      "Processing Record 0  of Set 1 | narsaq.\n",
      "Processing Record 0  of Set 1 | smithers.\n",
      "Processing Record 0  of Set 1 | kilindoni.\n",
      "Processing Record 0  of Set 1 | halalo.\n",
      "city halalo skipped\n",
      "Processing Record 0  of Set 1 | severnyy.\n",
      "Processing Record 0  of Set 1 | petatlan.\n",
      "Processing Record 0  of Set 1 | teya.\n",
      "Processing Record 0  of Set 1 | saint-ambroise.\n",
      "Processing Record 0  of Set 1 | kuche.\n",
      "city kuche skipped\n",
      "Processing Record 0  of Set 1 | maniitsoq.\n",
      "Processing Record 0  of Set 1 | xingyi.\n",
      "Processing Record 0  of Set 1 | guanare.\n",
      "Processing Record 0  of Set 1 | ilam.\n",
      "Processing Record 0  of Set 1 | yashkino.\n",
      "Processing Record 0  of Set 1 | xinqing.\n",
      "Processing Record 0  of Set 1 | sainte-martine.\n",
      "Processing Record 0  of Set 1 | tanout.\n",
      "Processing Record 0  of Set 1 | pringsewu.\n",
      "Processing Record 0  of Set 1 | tongliao.\n",
      "Processing Record 0  of Set 1 | meulaboh.\n",
      "Processing Record 0  of Set 1 | mukhen.\n",
      "Processing Record 0  of Set 1 | soe.\n",
      "Processing Record 0  of Set 1 | mookane.\n",
      "Processing Record 0  of Set 1 | bilibino.\n",
      "Processing Record 0  of Set 1 | teahupoo.\n",
      "Processing Record 0  of Set 1 | katsina.\n",
      "Processing Record 0  of Set 1 | geraldton.\n",
      "Processing Record 0  of Set 1 | caiaponia.\n",
      "Processing Record 0  of Set 1 | warqla.\n",
      "city warqla skipped\n",
      "Processing Record 0  of Set 1 | lima.\n",
      "Processing Record 0  of Set 1 | naerbo.\n",
      "Processing Record 0  of Set 1 | kano.\n",
      "Processing Record 0  of Set 1 | walvis bay.\n",
      "Processing Record 0  of Set 1 | svetlaya.\n",
      "Processing Record 0  of Set 1 | clyde river.\n",
      "Processing Record 0  of Set 1 | dingle.\n",
      "Processing Record 0  of Set 1 | verkhnyaya inta.\n",
      "Processing Record 0  of Set 1 | novyye lyady.\n",
      "Processing Record 0  of Set 1 | tagusao.\n",
      "Processing Record 0  of Set 1 | guerrero.\n",
      "Processing Record 0  of Set 1 | palau.\n",
      "Processing Record 0  of Set 1 | rockland.\n",
      "Processing Record 0  of Set 1 | pachino.\n",
      "Processing Record 0  of Set 1 | tiznit.\n",
      "Processing Record 0  of Set 1 | rocha.\n",
      "Processing Record 0  of Set 1 | xixiang.\n",
      "Processing Record 0  of Set 1 | plainview.\n",
      "Processing Record 0  of Set 1 | khanpur.\n",
      "Processing Record 0  of Set 1 | douglas.\n",
      "Processing Record 0  of Set 1 | alingsas.\n",
      "Processing Record 0  of Set 1 | aflu.\n",
      "city aflu skipped\n",
      "Processing Record 0  of Set 1 | turbat.\n",
      "Processing Record 0  of Set 1 | antofagasta.\n",
      "Processing Record 0  of Set 1 | mae hong son.\n",
      "Processing Record 0  of Set 1 | port hardy.\n",
      "Processing Record 0  of Set 1 | bargal.\n",
      "city bargal skipped\n",
      "Processing Record 0  of Set 1 | sapulpa.\n",
      "Processing Record 0  of Set 1 | brae.\n",
      "Processing Record 0  of Set 1 | dakar.\n",
      "Processing Record 0  of Set 1 | agva.\n",
      "city agva skipped\n",
      "Processing Record 0  of Set 1 | song phi nong.\n",
      "Processing Record 0  of Set 1 | bacolod.\n",
      "Processing Record 0  of Set 1 | kajaani.\n",
      "Processing Record 0  of Set 1 | kalispell.\n",
      "Processing Record 0  of Set 1 | prince rupert.\n",
      "Processing Record 0  of Set 1 | mersing.\n",
      "Processing Record 0  of Set 1 | araouane.\n",
      "Processing Record 0  of Set 1 | husavik.\n",
      "Processing Record 0  of Set 1 | gurupi.\n",
      "Processing Record 0  of Set 1 | ler.\n",
      "Processing Record 0  of Set 1 | beira.\n",
      "Processing Record 0  of Set 1 | rio gallegos.\n",
      "Processing Record 0  of Set 1 | buzmeyin.\n",
      "Processing Record 0  of Set 1 | ilebo.\n",
      "Processing Record 0  of Set 1 | goderich.\n",
      "Processing Record 0  of Set 1 | benghazi.\n",
      "Processing Record 0  of Set 1 | qasigiannguit.\n",
      "Processing Record 0  of Set 1 | cabo san lucas.\n",
      "Processing Record 0  of Set 1 | okha.\n",
      "Processing Record 0  of Set 1 | ziro.\n",
      "Processing Record 0  of Set 1 | hofn.\n",
      "Processing Record 0  of Set 1 | mnogovershinnyy.\n",
      "Processing Record 0  of Set 1 | karamken.\n",
      "city karamken skipped\n",
      "Processing Record 0  of Set 1 | groningen.\n",
      "Processing Record 0  of Set 1 | markala.\n",
      "Processing Record 0  of Set 1 | jumla.\n",
      "Processing Record 0  of Set 1 | tabiauea.\n",
      "city tabiauea skipped\n",
      "Processing Record 0  of Set 1 | burnie.\n",
      "Processing Record 0  of Set 1 | kavaratti.\n",
      "Processing Record 0  of Set 1 | kieta.\n",
      "Processing Record 0  of Set 1 | mountain home.\n",
      "Processing Record 0  of Set 1 | alenquer.\n",
      "Processing Record 0  of Set 1 | kolpny.\n",
      "Processing Record 0  of Set 1 | koutsouras.\n",
      "Processing Record 0  of Set 1 | acari.\n",
      "Processing Record 0  of Set 1 | nuuk.\n",
      "Processing Record 0  of Set 1 | palauig.\n",
      "Processing Record 0  of Set 1 | guerrero negro.\n",
      "Processing Record 0  of Set 1 | simao.\n",
      "Processing Record 0  of Set 1 | sarkand.\n",
      "Processing Record 0  of Set 1 | porto novo.\n",
      "Processing Record 0  of Set 1 | koksovyy.\n",
      "Processing Record 0  of Set 1 | mahajanga.\n",
      "Processing Record 0  of Set 1 | acutzilapan.\n",
      "city acutzilapan skipped\n",
      "Processing Record 0  of Set 1 | qaqortoq.\n",
      "Processing Record 0  of Set 1 | boyolangu.\n",
      "Processing Record 0  of Set 1 | mikuni.\n",
      "Processing Record 0  of Set 1 | cape canaveral.\n",
      "Processing Record 0  of Set 1 | ornskoldsvik.\n",
      "Processing Record 0  of Set 1 | elk point.\n",
      "Processing Record 0  of Set 1 | vryheid.\n",
      "Processing Record 0  of Set 1 | zalantun.\n",
      "Processing Record 0  of Set 1 | karratha.\n"
     ]
    },
    {
     "name": "stdout",
     "output_type": "stream",
     "text": [
      "Processing Record 0  of Set 1 | pandan.\n",
      "Processing Record 0  of Set 1 | skagastrond.\n",
      "city skagastrond skipped\n",
      "Processing Record 0  of Set 1 | jeremoabo.\n",
      "Processing Record 0  of Set 1 | saint anthony.\n",
      "Processing Record 0  of Set 1 | iki-burul.\n",
      "Processing Record 0  of Set 1 | arica.\n",
      "Processing Record 0  of Set 1 | birao.\n",
      "Processing Record 0  of Set 1 | young.\n",
      "Processing Record 0  of Set 1 | wenling.\n",
      "Processing Record 0  of Set 1 | nizhniy odes.\n",
      "Processing Record 0  of Set 1 | viedma.\n",
      "Processing Record 0  of Set 1 | puerto baquerizo moreno.\n",
      "Processing Record 0  of Set 1 | laguna.\n",
      "Processing Record 0  of Set 1 | comodoro rivadavia.\n",
      "Processing Record 0  of Set 1 | abha.\n",
      "Processing Record 0  of Set 1 | easton.\n",
      "Processing Record 0  of Set 1 | kabanjahe.\n",
      "Processing Record 0  of Set 1 | asbe teferi.\n",
      "Processing Record 0  of Set 1 | vernon.\n",
      "Processing Record 0  of Set 1 | luderitz.\n",
      "Processing Record 0  of Set 1 | saint petersburg.\n",
      "Processing Record 0  of Set 1 | tarudant.\n",
      "city tarudant skipped\n",
      "Processing Record 0  of Set 1 | canutama.\n",
      "Processing Record 0  of Set 1 | tommot.\n",
      "Processing Record 0  of Set 1 | kita.\n",
      "Processing Record 0  of Set 1 | kununurra.\n",
      "Processing Record 0  of Set 1 | blind river.\n",
      "Processing Record 0  of Set 1 | ouesso.\n",
      "Processing Record 0  of Set 1 | brigantine.\n",
      "Processing Record 0  of Set 1 | ust-koksa.\n",
      "Processing Record 0  of Set 1 | novo aripuana.\n",
      "Processing Record 0  of Set 1 | valleyview.\n",
      "Processing Record 0  of Set 1 | dzerzhinskoye.\n",
      "Processing Record 0  of Set 1 | hualmay.\n",
      "Processing Record 0  of Set 1 | ossora.\n",
      "Processing Record 0  of Set 1 | fuerte olimpo.\n",
      "Processing Record 0  of Set 1 | srednekolymsk.\n",
      "Processing Record 0  of Set 1 | santa isabel do rio negro.\n",
      "Processing Record 0  of Set 1 | tessalit.\n",
      "Processing Record 0  of Set 1 | tasbuget.\n",
      "city tasbuget skipped\n",
      "Processing Record 0  of Set 1 | dunedin.\n",
      "Processing Record 0  of Set 1 | dovolnoye.\n",
      "Processing Record 0  of Set 1 | elat.\n",
      "Processing Record 0  of Set 1 | malwan.\n",
      "city malwan skipped\n",
      "Processing Record 0  of Set 1 | ewa beach.\n",
      "Processing Record 0  of Set 1 | shahr-e babak.\n",
      "Processing Record 0  of Set 1 | iskateley.\n",
      "Processing Record 0  of Set 1 | mezen.\n",
      "Processing Record 0  of Set 1 | vostok.\n",
      "Processing Record 0  of Set 1 | bajina basta.\n",
      "Processing Record 0  of Set 1 | broken hill.\n",
      "Processing Record 0  of Set 1 | kholodnyy.\n",
      "Processing Record 0  of Set 1 | cuamba.\n",
      "Processing Record 0  of Set 1 | toliary.\n",
      "city toliary skipped\n",
      "Processing Record 0  of Set 1 | dhariwal.\n",
      "Processing Record 0  of Set 1 | la macarena.\n",
      "Processing Record 0  of Set 1 | rozhdestveno.\n",
      "Processing Record 0  of Set 1 | eureka.\n",
      "Processing Record 0  of Set 1 | karakose.\n",
      "city karakose skipped\n",
      "Processing Record 0  of Set 1 | kutum.\n",
      "Processing Record 0  of Set 1 | meadow lake.\n",
      "Processing Record 0  of Set 1 | solovetskiy.\n",
      "city solovetskiy skipped\n",
      "Processing Record 0  of Set 1 | zhuanghe.\n",
      "Processing Record 0  of Set 1 | carauari.\n",
      "Processing Record 0  of Set 1 | asfi.\n",
      "Processing Record 0  of Set 1 | luena.\n",
      "Processing Record 0  of Set 1 | kirkuk.\n",
      "561\n",
      "561\n",
      "561\n",
      "561\n",
      "561\n",
      "561\n",
      "561\n",
      "561\n",
      "561\n",
      "-----------------------------\n",
      "Data Retrieval Complete\n",
      "-----------------------------\n"
     ]
    }
   ],
   "source": [
    "url = \"http://api.openweathermap.org/data/2.5/weather?\"\n",
    "units = \"imperial\"\n",
    "\n",
    "record = 0\n",
    "sets = 1\n",
    "\n",
    "CityList = []\n",
    "LatList = []\n",
    "LonList = []\n",
    "MaxTempList = []\n",
    "HumidityList = []\n",
    "CloudinessList = []\n",
    "WindSpeedList = []\n",
    "CountryList = []\n",
    "DateList = []\n",
    "\n",
    "# Interate through Cities and retrieve data\n",
    "print(\"Beginning Data Retrieval\")\n",
    "print(\"-----------------------------\")\n",
    "\n",
    "for city in cities:\n",
    "    query_url = f\"{url}appid={weather_api_key}&q={city}&units={units}\"\n",
    "    weather_response = requests.get(query_url)\n",
    "    weather_json = weather_response.json()\n",
    "    #pprint(weather_json)\n",
    "    \n",
    "  #need to print in try code, create string that says processing record \"\" set of \"\" \n",
    "    try:\n",
    "        print(f\"Processing Record {record}  of Set {sets} | {city}.\")\n",
    "        \n",
    "        LatList.append( weather_json[\"coord\"][\"lat\"])\n",
    "        LonList.append( weather_json[\"coord\"][\"lon\"])\n",
    "        MaxTempList.append( weather_json[\"main\"][\"temp_max\"])\n",
    "        HumidityList.append( weather_json[\"main\"][\"humidity\"])\n",
    "        CloudinessList.append( weather_json[\"clouds\"][\"all\"])\n",
    "        WindSpeedList.append( weather_json[\"wind\"][\"speed\"])\n",
    "        CountryList.append( weather_json[\"sys\"][\"country\"])\n",
    "        DateList.append( weather_json[\"dt\"])\n",
    "        CityList.append(city)\n",
    "    except:\n",
    "        print(f\"city {city} skipped\")\n",
    "\n",
    "print(len(CityList))\n",
    "print(len(LatList)) \n",
    "print(len(LonList)) \n",
    "print(len(MaxTempList)) \n",
    "print(len(HumidityList)) \n",
    "print(len(CloudinessList)) \n",
    "print(len(WindSpeedList)) \n",
    "print(len(CountryList)) \n",
    "print(len(DateList)) \n",
    "\n",
    "print(\"-----------------------------\")        \n",
    "print(\"Data Retrieval Complete\")\n",
    "print(\"-----------------------------\")"
   ]
  },
  {
   "cell_type": "code",
   "execution_count": null,
   "metadata": {},
   "outputs": [],
   "source": []
  },
  {
   "cell_type": "markdown",
   "metadata": {},
   "source": [
    "### Convert Raw Data to DataFrame\n",
    "* Export the city data into a .csv.\n",
    "* Display the DataFrame"
   ]
  },
  {
   "cell_type": "code",
   "execution_count": 15,
   "metadata": {
    "scrolled": true
   },
   "outputs": [],
   "source": [
    "#Convert to DataFrame\n",
    "Cities_df = pd.DataFrame({\n",
    "    \"City\": CityList, \n",
    "    \"Lat\" : LatList,\n",
    "    \"Lng\" : LonList,\n",
    "    \"Max Temp\" : MaxTempList,\n",
    "    \"Humidity\" : HumidityList,\n",
    "    \"Cloudiness\" : CloudinessList,\n",
    "    \"Wind Speed\" : WindSpeedList,\n",
    "    \"Country\" : CountryList,\n",
    "    \"Date\" : DateList,\n",
    "})\n",
    "\n",
    "#Export the city data into a .csv\n",
    "Cities_df.to_csv(output_data_file, index=False)\n",
    "\n"
   ]
  },
  {
   "cell_type": "code",
   "execution_count": 16,
   "metadata": {},
   "outputs": [
    {
     "data": {
      "text/plain": [
       "City          561\n",
       "Lat           561\n",
       "Lng           561\n",
       "Max Temp      561\n",
       "Humidity      561\n",
       "Cloudiness    561\n",
       "Wind Speed    561\n",
       "Country       561\n",
       "Date          561\n",
       "dtype: int64"
      ]
     },
     "execution_count": 16,
     "metadata": {},
     "output_type": "execute_result"
    }
   ],
   "source": [
    "Cities_df.count()"
   ]
  },
  {
   "cell_type": "code",
   "execution_count": 77,
   "metadata": {},
   "outputs": [],
   "source": [
    "#Cities_df.describe()\n",
    "Cities_df.head()\n",
    "Cities_df.to_csv('Output_Data/cities.csv')"
   ]
  },
  {
   "cell_type": "code",
   "execution_count": 21,
   "metadata": {},
   "outputs": [
    {
     "data": {
      "text/plain": [
       "City           object\n",
       "Lat           float64\n",
       "Lng           float64\n",
       "Max Temp      float64\n",
       "Humidity        int64\n",
       "Cloudiness      int64\n",
       "Wind Speed    float64\n",
       "Country        object\n",
       "Date            int64\n",
       "dtype: object"
      ]
     },
     "execution_count": 21,
     "metadata": {},
     "output_type": "execute_result"
    }
   ],
   "source": [
    "Cities_df.dtypes"
   ]
  },
  {
   "cell_type": "code",
   "execution_count": 22,
   "metadata": {},
   "outputs": [
    {
     "data": {
      "text/plain": [
       "'03/14/2021'"
      ]
     },
     "execution_count": 22,
     "metadata": {},
     "output_type": "execute_result"
    }
   ],
   "source": [
    "# #fix date time\n",
    "# import datetime\n",
    "# Cities_df['Date'] =  pd.to_datetime(Cities_df['Date'], format='%d%b%Y:%H:%M:%S.%f')\n",
    "# Cities_df.head()\n"
   ]
  },
  {
   "cell_type": "markdown",
   "metadata": {},
   "source": [
    "## Inspect the data and remove the cities where the humidity > 100%.\n",
    "----\n",
    "Skip this step if there are no cities that have humidity > 100%. "
   ]
  },
  {
   "cell_type": "code",
   "execution_count": 23,
   "metadata": {},
   "outputs": [
    {
     "data": {
      "text/html": [
       "<div>\n",
       "<style scoped>\n",
       "    .dataframe tbody tr th:only-of-type {\n",
       "        vertical-align: middle;\n",
       "    }\n",
       "\n",
       "    .dataframe tbody tr th {\n",
       "        vertical-align: top;\n",
       "    }\n",
       "\n",
       "    .dataframe thead th {\n",
       "        text-align: right;\n",
       "    }\n",
       "</style>\n",
       "<table border=\"1\" class=\"dataframe\">\n",
       "  <thead>\n",
       "    <tr style=\"text-align: right;\">\n",
       "      <th></th>\n",
       "      <th>Lat</th>\n",
       "      <th>Lng</th>\n",
       "      <th>Max Temp</th>\n",
       "      <th>Humidity</th>\n",
       "      <th>Cloudiness</th>\n",
       "      <th>Wind Speed</th>\n",
       "      <th>Date</th>\n",
       "    </tr>\n",
       "  </thead>\n",
       "  <tbody>\n",
       "    <tr>\n",
       "      <th>count</th>\n",
       "      <td>561.000000</td>\n",
       "      <td>561.000000</td>\n",
       "      <td>561.000000</td>\n",
       "      <td>561.000000</td>\n",
       "      <td>561.000000</td>\n",
       "      <td>561.000000</td>\n",
       "      <td>5.610000e+02</td>\n",
       "    </tr>\n",
       "    <tr>\n",
       "      <th>mean</th>\n",
       "      <td>20.327361</td>\n",
       "      <td>17.649049</td>\n",
       "      <td>54.225811</td>\n",
       "      <td>72.003565</td>\n",
       "      <td>52.351159</td>\n",
       "      <td>7.961070</td>\n",
       "      <td>1.615785e+09</td>\n",
       "    </tr>\n",
       "    <tr>\n",
       "      <th>std</th>\n",
       "      <td>32.987947</td>\n",
       "      <td>91.402598</td>\n",
       "      <td>27.028817</td>\n",
       "      <td>21.689859</td>\n",
       "      <td>39.092469</td>\n",
       "      <td>6.510675</td>\n",
       "      <td>8.502265e+01</td>\n",
       "    </tr>\n",
       "    <tr>\n",
       "      <th>min</th>\n",
       "      <td>-54.800000</td>\n",
       "      <td>-175.200000</td>\n",
       "      <td>-23.260000</td>\n",
       "      <td>12.000000</td>\n",
       "      <td>0.000000</td>\n",
       "      <td>0.380000</td>\n",
       "      <td>1.615784e+09</td>\n",
       "    </tr>\n",
       "    <tr>\n",
       "      <th>25%</th>\n",
       "      <td>-7.470600</td>\n",
       "      <td>-65.019200</td>\n",
       "      <td>35.010000</td>\n",
       "      <td>62.000000</td>\n",
       "      <td>8.000000</td>\n",
       "      <td>3.440000</td>\n",
       "      <td>1.615785e+09</td>\n",
       "    </tr>\n",
       "    <tr>\n",
       "      <th>50%</th>\n",
       "      <td>24.800000</td>\n",
       "      <td>18.423200</td>\n",
       "      <td>61.390000</td>\n",
       "      <td>77.000000</td>\n",
       "      <td>57.000000</td>\n",
       "      <td>6.080000</td>\n",
       "      <td>1.615785e+09</td>\n",
       "    </tr>\n",
       "    <tr>\n",
       "      <th>75%</th>\n",
       "      <td>48.196700</td>\n",
       "      <td>102.263400</td>\n",
       "      <td>75.200000</td>\n",
       "      <td>89.000000</td>\n",
       "      <td>90.000000</td>\n",
       "      <td>10.380000</td>\n",
       "      <td>1.615785e+09</td>\n",
       "    </tr>\n",
       "    <tr>\n",
       "      <th>max</th>\n",
       "      <td>78.218600</td>\n",
       "      <td>179.316700</td>\n",
       "      <td>98.010000</td>\n",
       "      <td>100.000000</td>\n",
       "      <td>100.000000</td>\n",
       "      <td>52.930000</td>\n",
       "      <td>1.615785e+09</td>\n",
       "    </tr>\n",
       "  </tbody>\n",
       "</table>\n",
       "</div>"
      ],
      "text/plain": [
       "              Lat         Lng    Max Temp    Humidity  Cloudiness  Wind Speed  \\\n",
       "count  561.000000  561.000000  561.000000  561.000000  561.000000  561.000000   \n",
       "mean    20.327361   17.649049   54.225811   72.003565   52.351159    7.961070   \n",
       "std     32.987947   91.402598   27.028817   21.689859   39.092469    6.510675   \n",
       "min    -54.800000 -175.200000  -23.260000   12.000000    0.000000    0.380000   \n",
       "25%     -7.470600  -65.019200   35.010000   62.000000    8.000000    3.440000   \n",
       "50%     24.800000   18.423200   61.390000   77.000000   57.000000    6.080000   \n",
       "75%     48.196700  102.263400   75.200000   89.000000   90.000000   10.380000   \n",
       "max     78.218600  179.316700   98.010000  100.000000  100.000000   52.930000   \n",
       "\n",
       "               Date  \n",
       "count  5.610000e+02  \n",
       "mean   1.615785e+09  \n",
       "std    8.502265e+01  \n",
       "min    1.615784e+09  \n",
       "25%    1.615785e+09  \n",
       "50%    1.615785e+09  \n",
       "75%    1.615785e+09  \n",
       "max    1.615785e+09  "
      ]
     },
     "execution_count": 23,
     "metadata": {},
     "output_type": "execute_result"
    }
   ],
   "source": [
    "#There are no cities that have humidity over > 100%\n",
    "Cities_df.describe()"
   ]
  },
  {
   "cell_type": "code",
   "execution_count": 17,
   "metadata": {},
   "outputs": [
    {
     "data": {
      "text/plain": [
       "Int64Index([], dtype='int64')"
      ]
     },
     "execution_count": 17,
     "metadata": {},
     "output_type": "execute_result"
    }
   ],
   "source": [
    "#  Get the indices of cities that have humidity over 100%.\n",
    "#There are no cities that have humidity over > 100% as can be observed in chart above (Max - Humidity)"
   ]
  },
  {
   "cell_type": "code",
   "execution_count": 19,
   "metadata": {},
   "outputs": [
    {
     "data": {
      "text/html": [
       "<div>\n",
       "<style scoped>\n",
       "    .dataframe tbody tr th:only-of-type {\n",
       "        vertical-align: middle;\n",
       "    }\n",
       "\n",
       "    .dataframe tbody tr th {\n",
       "        vertical-align: top;\n",
       "    }\n",
       "\n",
       "    .dataframe thead th {\n",
       "        text-align: right;\n",
       "    }\n",
       "</style>\n",
       "<table border=\"1\" class=\"dataframe\">\n",
       "  <thead>\n",
       "    <tr style=\"text-align: right;\">\n",
       "      <th></th>\n",
       "      <th>City</th>\n",
       "      <th>Lat</th>\n",
       "      <th>Lng</th>\n",
       "      <th>Max Temp</th>\n",
       "      <th>Humidity</th>\n",
       "      <th>Cloudiness</th>\n",
       "      <th>Wind Speed</th>\n",
       "      <th>Country</th>\n",
       "      <th>Date</th>\n",
       "    </tr>\n",
       "  </thead>\n",
       "  <tbody>\n",
       "    <tr>\n",
       "      <td>0</td>\n",
       "      <td>butaritari</td>\n",
       "      <td>3.07</td>\n",
       "      <td>172.79</td>\n",
       "      <td>83.32</td>\n",
       "      <td>74</td>\n",
       "      <td>84</td>\n",
       "      <td>10.42</td>\n",
       "      <td>KI</td>\n",
       "      <td>1593605283</td>\n",
       "    </tr>\n",
       "    <tr>\n",
       "      <td>1</td>\n",
       "      <td>yerbogachen</td>\n",
       "      <td>61.28</td>\n",
       "      <td>108.01</td>\n",
       "      <td>79.52</td>\n",
       "      <td>58</td>\n",
       "      <td>20</td>\n",
       "      <td>7.70</td>\n",
       "      <td>RU</td>\n",
       "      <td>1593605121</td>\n",
       "    </tr>\n",
       "    <tr>\n",
       "      <td>2</td>\n",
       "      <td>cape town</td>\n",
       "      <td>-33.93</td>\n",
       "      <td>18.42</td>\n",
       "      <td>73.00</td>\n",
       "      <td>77</td>\n",
       "      <td>27</td>\n",
       "      <td>4.70</td>\n",
       "      <td>ZA</td>\n",
       "      <td>1593605039</td>\n",
       "    </tr>\n",
       "    <tr>\n",
       "      <td>3</td>\n",
       "      <td>touba</td>\n",
       "      <td>8.28</td>\n",
       "      <td>-7.68</td>\n",
       "      <td>79.97</td>\n",
       "      <td>75</td>\n",
       "      <td>82</td>\n",
       "      <td>3.58</td>\n",
       "      <td>CI</td>\n",
       "      <td>1593605284</td>\n",
       "    </tr>\n",
       "    <tr>\n",
       "      <td>4</td>\n",
       "      <td>jamestown</td>\n",
       "      <td>42.10</td>\n",
       "      <td>-79.24</td>\n",
       "      <td>64.00</td>\n",
       "      <td>88</td>\n",
       "      <td>1</td>\n",
       "      <td>6.93</td>\n",
       "      <td>US</td>\n",
       "      <td>1593605284</td>\n",
       "    </tr>\n",
       "  </tbody>\n",
       "</table>\n",
       "</div>"
      ],
      "text/plain": [
       "          City    Lat     Lng  Max Temp  Humidity  Cloudiness  Wind Speed  \\\n",
       "0   butaritari   3.07  172.79     83.32        74          84       10.42   \n",
       "1  yerbogachen  61.28  108.01     79.52        58          20        7.70   \n",
       "2    cape town -33.93   18.42     73.00        77          27        4.70   \n",
       "3        touba   8.28   -7.68     79.97        75          82        3.58   \n",
       "4    jamestown  42.10  -79.24     64.00        88           1        6.93   \n",
       "\n",
       "  Country        Date  \n",
       "0      KI  1593605283  \n",
       "1      RU  1593605121  \n",
       "2      ZA  1593605039  \n",
       "3      CI  1593605284  \n",
       "4      US  1593605284  "
      ]
     },
     "execution_count": 19,
     "metadata": {},
     "output_type": "execute_result"
    }
   ],
   "source": [
    "# Make a new DataFrame equal to the city data to drop all humidity outliers by index.\n",
    "# Passing \"inplace=False\" will make a copy of the city_data DataFrame, which we call \"clean_city_data\".\n"
   ]
  },
  {
   "cell_type": "code",
   "execution_count": null,
   "metadata": {},
   "outputs": [],
   "source": [
    "\n"
   ]
  },
  {
   "cell_type": "markdown",
   "metadata": {},
   "source": [
    "## Plotting the Data\n",
    "* Use proper labeling of the plots using plot titles (including date of analysis) and axes labels.\n",
    "* Save the plotted figures as .pngs."
   ]
  },
  {
   "cell_type": "markdown",
   "metadata": {},
   "source": [
    "## Latitude vs. Temperature Plot"
   ]
  },
  {
   "cell_type": "code",
   "execution_count": 70,
   "metadata": {},
   "outputs": [
    {
     "name": "stdout",
     "output_type": "stream",
     "text": [
      "The scatter plot shows that as you move away from the equator the temperature decreases and that in the northern hemisphere has a greater decrease in temperature\n"
     ]
    },
    {
     "data": {
      "image/png": "[encoded data removed]",
      "text/plain": [
       "<Figure size 432x288 with 1 Axes>"
      ]
     },
     "metadata": {
      "needs_background": "light"
     },
     "output_type": "display_data"
    }
   ],
   "source": [
    "import matplotlib.pyplot as plt\n",
    "\n",
    "# Generate a scatter plot of Latitude vs. Temperature\n",
    "today_date = time.strftime(\"%m/%d/%Y\")\n",
    "Cities_df.plot(kind='scatter', x='Lat', y='Max Temp')\n",
    "plt.title(f\"City Latitude vs. Max Temperature ({today_date})\")\n",
    "plt.grid(True)\n",
    "plt.xlabel('Latitude')\n",
    "plt.ylabel('Max Temperature (F)')\n",
    "print(\"The scatter plot shows that as you move away from the equator the temperature decreases and that in the northern hemisphere has a greater decrease in temperature\")\n",
    "plt.savefig('output_data/LatTemp.png',bbox_inches='tight',dpi=100)\n",
    "plt.show()\n"
   ]
  },
  {
   "cell_type": "markdown",
   "metadata": {},
   "source": [
    "## Latitude vs. Humidity Plot"
   ]
  },
  {
   "cell_type": "code",
   "execution_count": 71,
   "metadata": {},
   "outputs": [
    {
     "name": "stdout",
     "output_type": "stream",
     "text": [
      "The closer we are to the equator, less likely the humidty is going to be below 40%\n"
     ]
    },
    {
     "data": {
      "image/png": "[encoded data removed]",
      "text/plain": [
       "<Figure size 432x288 with 1 Axes>"
      ]
     },
     "metadata": {
      "needs_background": "light"
     },
     "output_type": "display_data"
    }
   ],
   "source": [
    "# Generate a scatter plot of Latitude vs. Humidity\n",
    "today_date = time.strftime(\"%m/%d/%Y\")\n",
    "Cities_df.plot(kind='scatter', x='Lat', y='Humidity')\n",
    "plt.title(f\"City Latitude vs. Humidity ({today_date})\")\n",
    "plt.grid(True)\n",
    "plt.xlabel('Latitude')\n",
    "plt.ylabel('Humidity (%)')\n",
    "print(\"The closer we are to the equator, less likely the humidty is going to be below 40%\")\n",
    "plt.savefig('output_data/LatHum.png',bbox_inches='tight',dpi=100)\n",
    "plt.show()\n"
   ]
  },
  {
   "cell_type": "markdown",
   "metadata": {},
   "source": [
    "## Latitude vs. Cloudiness Plot"
   ]
  },
  {
   "cell_type": "code",
   "execution_count": 72,
   "metadata": {},
   "outputs": [
    {
     "name": "stdout",
     "output_type": "stream",
     "text": [
      "The scatter plot shows no relation between cloudiness and latitude\n"
     ]
    },
    {
     "data": {
      "image/png": "[encoded data removed]",
      "text/plain": [
       "<Figure size 432x288 with 1 Axes>"
      ]
     },
     "metadata": {
      "needs_background": "light"
     },
     "output_type": "display_data"
    }
   ],
   "source": [
    "# Generate a scatter plot of Latitude vs. Cloudiness\n",
    "today_date = time.strftime(\"%m/%d/%Y\")\n",
    "Cities_df.plot(kind='scatter', x='Lat', y='Cloudiness')\n",
    "plt.title(f\"City Latitude vs. Cloudiness (%) ({today_date})\")\n",
    "plt.grid(True)\n",
    "plt.xlabel('Latitude')\n",
    "plt.ylabel('Cloudiness')\n",
    "print(\"The scatter plot shows no relation between cloudiness and latitude\")\n",
    "plt.savefig('output_data/LatCloud.png',bbox_inches='tight',dpi=100)\n",
    "plt.show()\n"
   ]
  },
  {
   "cell_type": "markdown",
   "metadata": {},
   "source": [
    "## Latitude vs. Wind Speed Plot"
   ]
  },
  {
   "cell_type": "code",
   "execution_count": 73,
   "metadata": {},
   "outputs": [
    {
     "name": "stdout",
     "output_type": "stream",
     "text": [
      "The wind speed tends to have less outliers closer to the equator\n"
     ]
    },
    {
     "data": {
      "image/png": "[encoded data removed]",
      "text/plain": [
       "<Figure size 432x288 with 1 Axes>"
      ]
     },
     "metadata": {
      "needs_background": "light"
     },
     "output_type": "display_data"
    }
   ],
   "source": [
    "# Generate a scatter plot of Latitude vs. Cloudiness\n",
    "today_date = time.strftime(\"%m/%d/%Y\")\n",
    "Cities_df.plot(kind='scatter', x='Lat', y='Wind Speed')\n",
    "plt.title(f\"City Latitude vs. Wind Speed (mph) ({today_date})\")\n",
    "plt.grid(True)\n",
    "plt.xlabel('Latitude')\n",
    "plt.ylabel('Wind Speed (mph)')\n",
    "print(\"The wind speed tends to have less outliers closer to the equator\")\n",
    "plt.savefig('output_data/LatWind.png',bbox_inches='tight',dpi=100)\n",
    "plt.show()\n"
   ]
  },
  {
   "cell_type": "markdown",
   "metadata": {},
   "source": [
    "## Linear Regression"
   ]
  },
  {
   "cell_type": "code",
   "execution_count": 39,
   "metadata": {},
   "outputs": [],
   "source": [
    "#Seperate Northern and Southern Hemisphere\n",
    "north_df = Cities_df.loc[pd.to_numeric(Cities_df[\"Lat\"]).astype(float)>0, :]\n",
    "south_df = Cities_df.loc[pd.to_numeric(Cities_df[\"Lat\"]).astype(float)<0, :]"
   ]
  },
  {
   "cell_type": "markdown",
   "metadata": {},
   "source": [
    "####  Northern Hemisphere - Max Temp vs. Latitude Linear Regression"
   ]
  },
  {
   "cell_type": "code",
   "execution_count": 74,
   "metadata": {},
   "outputs": [
    {
     "name": "stdout",
     "output_type": "stream",
     "text": [
      "The r-value is: -0.8897117129590065\n",
      "Regression line equation is: y = -1.24x + 93.98\n",
      "The r-squared is a negative correlation. As you move away from the equator the temperature decreases.\n"
     ]
    },
    {
     "data": {
      "image/png": "[encoded data removed]",
      "text/plain": [
       "<Figure size 432x288 with 1 Axes>"
      ]
     },
     "metadata": {
      "needs_background": "light"
     },
     "output_type": "display_data"
    }
   ],
   "source": [
    "#Northern Hemisphere\n",
    "x_values = north_df['Lat']\n",
    "y_values = north_df['Max Temp']\n",
    "(slope, intercept, rvalue, pvalue, stderr) = linregress(x_values, y_values)\n",
    "regress_values = x_values * slope + intercept\n",
    "line_eq = \"y = \" + str(round(slope,2)) + \"x + \" + str(round(intercept,2))\n",
    "plt.scatter(x_values,y_values)\n",
    "plt.plot(x_values,regress_values,\"r-\")\n",
    "plt.annotate(line_eq,(20,40),fontsize=15,color=\"red\")\n",
    "plt.title(\"Northern Hemisphere\")\n",
    "plt.xlabel('Latitude')\n",
    "plt.ylabel('Max Temp')\n",
    "print(f\"The r-value is: {rvalue}\")\n",
    "print(f\"Regression line equation is: {line_eq}\")\n",
    "print(\"The r-squared is a negative correlation. As you move away from the equator the temperature decreases.\")\n",
    "plt.savefig('output_data/regNorthLatTemp.png',bbox_inches='tight',dpi=100)\n",
    "plt.show()"
   ]
  },
  {
   "cell_type": "markdown",
   "metadata": {},
   "source": [
    "####  Southern Hemisphere - Max Temp vs. Latitude Linear Regression"
   ]
  },
  {
   "cell_type": "code",
   "execution_count": 75,
   "metadata": {},
   "outputs": [
    {
     "name": "stdout",
     "output_type": "stream",
     "text": [
      "The r-value is: 0.5884398550091887\n",
      "Regression line equation is: y = 0.44x + 81.86\n",
      "The r-squared is a positive correlation closer to 1. As you move closer to the equator the temperature increases.\n"
     ]
    },
    {
     "data": {
      "image/png": "[encoded data removed]",
      "text/plain": [
       "<Figure size 432x288 with 1 Axes>"
      ]
     },
     "metadata": {
      "needs_background": "light"
     },
     "output_type": "display_data"
    }
   ],
   "source": [
    "#Southern Hemisphere\n",
    "x_values = south_df['Lat']\n",
    "y_values = south_df['Max Temp']\n",
    "(slope, intercept, rvalue, pvalue, stderr) = linregress(x_values, y_values)\n",
    "regress_values = x_values * slope + intercept\n",
    "line_eq = \"y = \" + str(round(slope,2)) + \"x + \" + str(round(intercept,2))\n",
    "plt.scatter(x_values,y_values)\n",
    "plt.plot(x_values,regress_values,\"r-\")\n",
    "plt.annotate(line_eq,(20,40),fontsize=15,color=\"red\")\n",
    "plt.title(\"Southern Hemisphere\")\n",
    "plt.xlabel('Latitude')\n",
    "plt.ylabel('Max Temp')\n",
    "print(f\"The r-value is: {rvalue}\")\n",
    "print(f\"Regression line equation is: {line_eq}\")\n",
    "print(\"The r-squared is a positive correlation closer to 1. As you move closer to the equator the temperature increases.\")\n",
    "plt.savefig('output_data/regSouthLatTemp.png',bbox_inches='tight',dpi=100)\n",
    "plt.show()"
   ]
  },
  {
   "cell_type": "markdown",
   "metadata": {},
   "source": [
    "####  Northern Hemisphere - Humidity (%) vs. Latitude Linear Regression"
   ]
  },
  {
   "cell_type": "code",
   "execution_count": 59,
   "metadata": {},
   "outputs": [
    {
     "name": "stdout",
     "output_type": "stream",
     "text": [
      "The r-value is: 0.3306783757222576\n",
      "Regression line equation is: y = 0.38x + 53.76\n",
      "The r-squared is positive but not close to 1 for good correlation. As you move away from the equator the humidity is less sporadic\n"
     ]
    },
    {
     "data": {
      "image/png": "[encoded data removed]",
      "text/plain": [
       "<Figure size 432x288 with 1 Axes>"
      ]
     },
     "metadata": {
      "needs_background": "light"
     },
     "output_type": "display_data"
    }
   ],
   "source": [
    "#Northern Hemisphere\n",
    "x_values = north_df['Lat']\n",
    "y_values = north_df['Humidity']\n",
    "(slope, intercept, rvalue, pvalue, stderr) = linregress(x_values, y_values)\n",
    "regress_values = x_values * slope + intercept\n",
    "line_eq = \"y = \" + str(round(slope,2)) + \"x + \" + str(round(intercept,2))\n",
    "plt.scatter(x_values,y_values)\n",
    "plt.plot(x_values,regress_values,\"r-\")\n",
    "plt.annotate(line_eq,(20,40),fontsize=15,color=\"red\")\n",
    "plt.title(\"Northern Hemisphere\")\n",
    "plt.xlabel('Latitude')\n",
    "plt.ylabel('Humidity')\n",
    "print(f\"The r-value is: {rvalue}\")\n",
    "print(f\"Regression line equation is: {line_eq}\")\n",
    "print(\"The r-squared is positive but not close to 1 for good correlation. As you move away from the equator the humidity is less sporadic\")\n",
    "plt.savefig('output_data/regNorthLatHum.png',bbox_inches='tight',dpi=100)\n",
    "plt.show()"
   ]
  },
  {
   "cell_type": "markdown",
   "metadata": {},
   "source": [
    "####  Southern Hemisphere - Humidity (%) vs. Latitude Linear Regression"
   ]
  },
  {
   "cell_type": "code",
   "execution_count": 58,
   "metadata": {},
   "outputs": [
    {
     "name": "stdout",
     "output_type": "stream",
     "text": [
      "The r-value is: 0.13954358073154285\n",
      "Regression line equation is: y = 0.17x + 82.45\n",
      "The r-squared is positive but not close to 1 for good correlation. Humidity tends to be higher closer to the equator\n"
     ]
    },
    {
     "data": {
      "image/png": "[encoded data removed]",
      "text/plain": [
       "<Figure size 432x288 with 1 Axes>"
      ]
     },
     "metadata": {
      "needs_background": "light"
     },
     "output_type": "display_data"
    }
   ],
   "source": [
    "#Southern Hemisphere\n",
    "x_values = south_df['Lat']\n",
    "y_values = south_df['Humidity']\n",
    "(slope, intercept, rvalue, pvalue, stderr) = linregress(x_values, y_values)\n",
    "regress_values = x_values * slope + intercept\n",
    "line_eq = \"y = \" + str(round(slope,2)) + \"x + \" + str(round(intercept,2))\n",
    "plt.scatter(x_values,y_values)\n",
    "plt.plot(x_values,regress_values,\"r-\")\n",
    "plt.annotate(line_eq,(20,40),fontsize=15,color=\"red\")\n",
    "plt.title(\"Southern Hemisphere\")\n",
    "plt.xlabel('Latitude')\n",
    "plt.ylabel('Humidity')\n",
    "print(f\"The r-value is: {rvalue}\")\n",
    "print(f\"Regression line equation is: {line_eq}\")\n",
    "print(\"The r-squared is positive but not close to 1 for good correlation. Humidity tends to be higher closer to the equator\")\n",
    "plt.savefig('output_data/regSouthLatHum.png',bbox_inches='tight',dpi=100)\n",
    "plt.show()"
   ]
  },
  {
   "cell_type": "markdown",
   "metadata": {},
   "source": [
    "####  Northern Hemisphere - Cloudiness (%) vs. Latitude Linear Regression"
   ]
  },
  {
   "cell_type": "code",
   "execution_count": 29,
   "metadata": {},
   "outputs": [
    {
     "name": "stdout",
     "output_type": "stream",
     "text": [
      "The r-value is: 0.0020898727664228514\n"
     ]
    },
    {
     "data": {
      "image/png": "[encoded data removed]",
      "text/plain": [
       "<Figure size 432x288 with 1 Axes>"
      ]
     },
     "metadata": {
      "needs_background": "light"
     },
     "output_type": "display_data"
    }
   ],
   "source": []
  },
  {
   "cell_type": "code",
   "execution_count": 61,
   "metadata": {},
   "outputs": [
    {
     "name": "stdout",
     "output_type": "stream",
     "text": [
      "The r-value is: 0.24445557863230208\n",
      "Regression line equation is: y = 0.49x + 31.76\n",
      "The r-squared is positive but not close to 1 for good correlation. Cloudiness\n"
     ]
    },
    {
     "data": {
      "image/png": "[encoded data removed]",
      "text/plain": [
       "<Figure size 432x288 with 1 Axes>"
      ]
     },
     "metadata": {
      "needs_background": "light"
     },
     "output_type": "display_data"
    }
   ],
   "source": [
    "#Northern Hemisphere\n",
    "x_values = north_df['Lat']\n",
    "y_values = north_df['Cloudiness']\n",
    "(slope, intercept, rvalue, pvalue, stderr) = linregress(x_values, y_values)\n",
    "regress_values = x_values * slope + intercept\n",
    "line_eq = \"y = \" + str(round(slope,2)) + \"x + \" + str(round(intercept,2))\n",
    "plt.scatter(x_values,y_values)\n",
    "plt.plot(x_values,regress_values,\"r-\")\n",
    "plt.annotate(line_eq,(20,40),fontsize=15,color=\"red\")\n",
    "plt.title(\"Northern Hemisphere\")\n",
    "plt.xlabel('Latitude')\n",
    "plt.ylabel('Cloudiness')\n",
    "print(f\"The r-value is: {rvalue}\")\n",
    "print(f\"Regression line equation is: {line_eq}\")\n",
    "print(\"The r-squared is positive but not close to 1 for good correlation. Cloudiness\")\n",
    "plt.savefig('output_data/regNorthLatCloud.png',bbox_inches='tight',dpi=100)\n",
    "plt.show()"
   ]
  },
  {
   "cell_type": "markdown",
   "metadata": {},
   "source": [
    "####  Southern Hemisphere - Cloudiness (%) vs. Latitude Linear Regression"
   ]
  },
  {
   "cell_type": "code",
   "execution_count": 64,
   "metadata": {},
   "outputs": [
    {
     "name": "stdout",
     "output_type": "stream",
     "text": [
      "The r-value is: 0.05528435003965556\n",
      "Regression line equation is: y = 0.15x + 58.3\n",
      "The r-squared is positive but not close to 1 for good correlation. Cloudiness is less consistant further away from equator\n"
     ]
    },
    {
     "data": {
      "image/png": "[encoded data removed]",
      "text/plain": [
       "<Figure size 432x288 with 1 Axes>"
      ]
     },
     "metadata": {
      "needs_background": "light"
     },
     "output_type": "display_data"
    }
   ],
   "source": [
    "#Southern Hemisphere\n",
    "x_values = south_df['Lat']\n",
    "y_values = south_df['Cloudiness']\n",
    "(slope, intercept, rvalue, pvalue, stderr) = linregress(x_values, y_values)\n",
    "regress_values = x_values * slope + intercept\n",
    "line_eq = \"y = \" + str(round(slope,2)) + \"x + \" + str(round(intercept,2))\n",
    "plt.scatter(x_values,y_values)\n",
    "plt.plot(x_values,regress_values,\"r-\")\n",
    "plt.annotate(line_eq,(20,40),fontsize=15,color=\"red\")\n",
    "plt.title(\"Southern Hemisphere\")\n",
    "plt.xlabel('Latitude')\n",
    "plt.ylabel('Cloudiness')\n",
    "print(f\"The r-value is: {rvalue}\")\n",
    "print(f\"Regression line equation is: {line_eq}\")\n",
    "print(\"The r-squared is positive but not close to 1 for good correlation. Cloudiness is less consistant further away from equator\")\n",
    "plt.savefig('output_data/regSouthLatCloud.png',bbox_inches='tight',dpi=100)\n",
    "plt.show()"
   ]
  },
  {
   "cell_type": "markdown",
   "metadata": {},
   "source": [
    "####  Northern Hemisphere - Wind Speed (mph) vs. Latitude Linear Regression"
   ]
  },
  {
   "cell_type": "code",
   "execution_count": 67,
   "metadata": {},
   "outputs": [
    {
     "name": "stdout",
     "output_type": "stream",
     "text": [
      "The r-value is: 0.1874858659193659\n",
      "Regression line equation is: y = 0.07x + 6.27\n",
      "The r-squared is positive but not close to 1 for good correlation. Wind Speed is more consistant closer to equator\n"
     ]
    },
    {
     "data": {
      "image/png": "[encoded data removed]",
      "text/plain": [
       "<Figure size 432x288 with 1 Axes>"
      ]
     },
     "metadata": {
      "needs_background": "light"
     },
     "output_type": "display_data"
    }
   ],
   "source": [
    "#Northern Hemisphere\n",
    "x_values = north_df['Lat']\n",
    "y_values = north_df['Wind Speed']\n",
    "(slope, intercept, rvalue, pvalue, stderr) = linregress(x_values, y_values)\n",
    "regress_values = x_values * slope + intercept\n",
    "line_eq = \"y = \" + str(round(slope,2)) + \"x + \" + str(round(intercept,2))\n",
    "plt.scatter(x_values,y_values)\n",
    "plt.plot(x_values,regress_values,\"r-\")\n",
    "plt.annotate(line_eq,(20,40),fontsize=15,color=\"red\")\n",
    "plt.title(\"Northern Hemisphere\")\n",
    "plt.xlabel('Latitude')\n",
    "plt.ylabel('Wind Speed')\n",
    "print(f\"The r-value is: {rvalue}\")\n",
    "print(f\"Regression line equation is: {line_eq}\")\n",
    "print(\"The r-squared is positive but not close to 1 for good correlation. Wind Speed is more consistant closer to equator\")\n",
    "plt.savefig('output_data/regNorthLatWind.png',bbox_inches='tight',dpi=100)\n",
    "plt.show()"
   ]
  },
  {
   "cell_type": "markdown",
   "metadata": {},
   "source": [
    "####  Southern Hemisphere - Wind Speed (mph) vs. Latitude Linear Regression"
   ]
  },
  {
   "cell_type": "code",
   "execution_count": 69,
   "metadata": {},
   "outputs": [
    {
     "name": "stdout",
     "output_type": "stream",
     "text": [
      "The r-value is: -0.3120241398641767\n",
      "Regression line equation is: y = -0.11x + 3.9\n",
      "The r-squared is positive but not close to 1 for good correlation. Wind Speed is more consistant closer to equator\n"
     ]
    },
    {
     "data": {
      "image/png": "[encoded data removed]",
      "text/plain": [
       "<Figure size 432x288 with 1 Axes>"
      ]
     },
     "metadata": {
      "needs_background": "light"
     },
     "output_type": "display_data"
    }
   ],
   "source": [
    "#Southern Hemisphere\n",
    "x_values = south_df['Lat']\n",
    "y_values = south_df['Wind Speed']\n",
    "(slope, intercept, rvalue, pvalue, stderr) = linregress(x_values, y_values)\n",
    "regress_values = x_values * slope + intercept\n",
    "line_eq = \"y = \" + str(round(slope,2)) + \"x + \" + str(round(intercept,2))\n",
    "plt.scatter(x_values,y_values)\n",
    "plt.plot(x_values,regress_values,\"r-\")\n",
    "plt.annotate(line_eq,(20,40),fontsize=15,color=\"red\")\n",
    "plt.title(\"Southern Hemisphere\")\n",
    "plt.xlabel('Latitude')\n",
    "plt.ylabel('Wind Speed')\n",
    "print(f\"The r-value is: {rvalue}\")\n",
    "print(f\"Regression line equation is: {line_eq}\")\n",
    "print(\"The r-squared is positive but not close to 1 for good correlation. Wind Speed is more consistant closer to equator\")\n",
    "plt.savefig('output_data/regSouthLatWind.png',bbox_inches='tight',dpi=100)\n",
    "plt.show()"
   ]
  }
 ],
 "metadata": {
  "anaconda-cloud": {},
  "kernel_info": {
   "name": "python3"
  },
  "kernelspec": {
   "display_name": "Python 3",
   "language": "python",
   "name": "python3"
  },
  "language_info": {
   "codemirror_mode": {
    "name": "ipython",
    "version": 3
   },
   "file_extension": ".py",
   "mimetype": "text/x-python",
   "name": "python",
   "nbconvert_exporter": "python",
   "pygments_lexer": "ipython3",
   "version": "3.6.10"
  },
  "latex_envs": {
   "LaTeX_envs_menu_present": true,
   "autoclose": false,
   "autocomplete": true,
   "bibliofile": "biblio.bib",
   "cite_by": "apalike",
   "current_citInitial": 1,
   "eqLabelWithNumbers": true,
   "eqNumInitial": 1,
   "hotkeys": {
    "equation": "Ctrl-E",
    "itemize": "Ctrl-I"
   },
   "labels_anchors": false,
   "latex_user_defs": false,
   "report_style_numbering": false,
   "user_envs_cfg": false
  },
  "nteract": {
   "version": "0.12.3"
  }
 },
 "nbformat": 4,
 "nbformat_minor": 2
}
